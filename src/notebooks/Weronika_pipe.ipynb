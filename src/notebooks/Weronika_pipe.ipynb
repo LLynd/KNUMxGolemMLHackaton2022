{
 "cells": [
  {
   "cell_type": "code",
   "execution_count": 399,
   "id": "e135c8b9",
   "metadata": {},
   "outputs": [],
   "source": [
    "import numpy as np\n",
    "import keras\n",
    "import pandas as pd\n",
    "import json\n",
    "import imageio\n",
    "from skimage.transform import resize\n",
    "import os\n",
    "from PIL import Image\n",
    "import tensorflow as tf\n",
    "import matplotlib.pyplot as plt"
   ]
  },
  {
   "cell_type": "code",
   "execution_count": null,
   "id": "44880f9b",
   "metadata": {},
   "outputs": [],
   "source": []
  },
  {
   "cell_type": "code",
   "execution_count": null,
   "id": "9e95a384",
   "metadata": {},
   "outputs": [],
   "source": []
  },
  {
   "cell_type": "code",
   "execution_count": null,
   "id": "887c4488",
   "metadata": {},
   "outputs": [],
   "source": []
  },
  {
   "cell_type": "code",
   "execution_count": 400,
   "id": "a0613568",
   "metadata": {},
   "outputs": [],
   "source": [
    "def load_data(mode):\n",
    "    if mode == 'TRAIN':\n",
    "        json_path = '../../data/reference_images_part1.json'\n",
    "        images_path = '../../data/reference_images_part1/'\n",
    "    elif mode == 'VAL':\n",
    "        json_path = '../../data/images_part1_valid.json'\n",
    "        images_path = '../../data/images_part1_valid/'\n",
    "    else:\n",
    "        raise ValueError('usupported mode')\n",
    "    with open(json_path) as json_data:\n",
    "        data = json.load(json_data)\n",
    "    images = pd.DataFrame(data['images'])\n",
    "    annotations = pd.DataFrame(data['annotations'])\n",
    "    categories = pd.DataFrame(data['categories'])\n",
    "    \n",
    "    df = pd.DataFrame()\n",
    "    \n",
    "    \n",
    "    X = []\n",
    "    y = []\n",
    "    y_desc = []\n",
    "    occluded = []\n",
    "    bboxes = []\n",
    "    im_ids = []\n",
    "    \n",
    "    for instance in data['annotations']:\n",
    "        im_id = instance['image_id']\n",
    "        bbox = instance['bbox']\n",
    "        y.append(instance['category_id'])\n",
    "        bboxes.append(np.asarray(bbox).astype('int64'))\n",
    "        #print(images.loc[images['id']==im_id]['file_name'])\n",
    "        im_ids.append(images.loc[images['id']==im_id]['file_name'].values[0])\n",
    "        y_desc.append(categories.loc[categories['id']==instance['category_id']]['name'].values[0])\n",
    "        if mode=='TRAIN':\n",
    "            occluded.append(False)\n",
    "        elif mode=='VAL':\n",
    "            occluded.append(instance['occluded'])\n",
    "        \n",
    "    df['bbox'] = bboxes\n",
    "    df['y'] = y\n",
    "    df['desc'] = y_desc\n",
    "    df['im_id'] = im_ids\n",
    "    df['occ'] = occluded\n",
    "    \n",
    "    return df"
   ]
  },
  {
   "cell_type": "code",
   "execution_count": 401,
   "id": "4534cd14",
   "metadata": {},
   "outputs": [
    {
     "data": {
      "text/html": [
       "<div>\n",
       "<style scoped>\n",
       "    .dataframe tbody tr th:only-of-type {\n",
       "        vertical-align: middle;\n",
       "    }\n",
       "\n",
       "    .dataframe tbody tr th {\n",
       "        vertical-align: top;\n",
       "    }\n",
       "\n",
       "    .dataframe thead th {\n",
       "        text-align: right;\n",
       "    }\n",
       "</style>\n",
       "<table border=\"1\" class=\"dataframe\">\n",
       "  <thead>\n",
       "    <tr style=\"text-align: right;\">\n",
       "      <th></th>\n",
       "      <th>bbox</th>\n",
       "      <th>y</th>\n",
       "      <th>desc</th>\n",
       "      <th>im_id</th>\n",
       "    </tr>\n",
       "  </thead>\n",
       "  <tbody>\n",
       "    <tr>\n",
       "      <th>0</th>\n",
       "      <td>[665, 448, 206, 174]</td>\n",
       "      <td>8</td>\n",
       "      <td>nomagic_mulled_wine</td>\n",
       "      <td>nomagic_mulled_wine_3.png</td>\n",
       "    </tr>\n",
       "    <tr>\n",
       "      <th>1</th>\n",
       "      <td>[475, 186, 236, 186]</td>\n",
       "      <td>8</td>\n",
       "      <td>nomagic_mulled_wine</td>\n",
       "      <td>nomagic_mulled_wine_3.png</td>\n",
       "    </tr>\n",
       "    <tr>\n",
       "      <th>2</th>\n",
       "      <td>[962, 76, 229, 217]</td>\n",
       "      <td>8</td>\n",
       "      <td>nomagic_mulled_wine</td>\n",
       "      <td>nomagic_mulled_wine_3.png</td>\n",
       "    </tr>\n",
       "    <tr>\n",
       "      <th>3</th>\n",
       "      <td>[778, 250, 163, 135]</td>\n",
       "      <td>8</td>\n",
       "      <td>nomagic_mulled_wine</td>\n",
       "      <td>nomagic_mulled_wine_3.png</td>\n",
       "    </tr>\n",
       "    <tr>\n",
       "      <th>4</th>\n",
       "      <td>[184, 377, 244, 194]</td>\n",
       "      <td>8</td>\n",
       "      <td>nomagic_mulled_wine</td>\n",
       "      <td>nomagic_mulled_wine_3.png</td>\n",
       "    </tr>\n",
       "    <tr>\n",
       "      <th>...</th>\n",
       "      <td>...</td>\n",
       "      <td>...</td>\n",
       "      <td>...</td>\n",
       "      <td>...</td>\n",
       "    </tr>\n",
       "    <tr>\n",
       "      <th>139</th>\n",
       "      <td>[791, 129, 277, 139]</td>\n",
       "      <td>3</td>\n",
       "      <td>nomagic_digitec_cables</td>\n",
       "      <td>nomagic_digitec_cables_1.png</td>\n",
       "    </tr>\n",
       "    <tr>\n",
       "      <th>140</th>\n",
       "      <td>[345, 139, 271, 109]</td>\n",
       "      <td>3</td>\n",
       "      <td>nomagic_digitec_cables</td>\n",
       "      <td>nomagic_digitec_cables_1.png</td>\n",
       "    </tr>\n",
       "    <tr>\n",
       "      <th>141</th>\n",
       "      <td>[895, 365, 177, 223]</td>\n",
       "      <td>3</td>\n",
       "      <td>nomagic_digitec_cables</td>\n",
       "      <td>nomagic_digitec_cables_1.png</td>\n",
       "    </tr>\n",
       "    <tr>\n",
       "      <th>142</th>\n",
       "      <td>[155, 146, 163, 209]</td>\n",
       "      <td>3</td>\n",
       "      <td>nomagic_digitec_cables</td>\n",
       "      <td>nomagic_digitec_cables_1.png</td>\n",
       "    </tr>\n",
       "    <tr>\n",
       "      <th>143</th>\n",
       "      <td>[177, 116, 875, 495]</td>\n",
       "      <td>12</td>\n",
       "      <td>nomagic_thinkpads</td>\n",
       "      <td>nomagic_thinkpads_2.png</td>\n",
       "    </tr>\n",
       "  </tbody>\n",
       "</table>\n",
       "<p>144 rows × 4 columns</p>\n",
       "</div>"
      ],
      "text/plain": [
       "                     bbox   y                    desc  \\\n",
       "0    [665, 448, 206, 174]   8     nomagic_mulled_wine   \n",
       "1    [475, 186, 236, 186]   8     nomagic_mulled_wine   \n",
       "2     [962, 76, 229, 217]   8     nomagic_mulled_wine   \n",
       "3    [778, 250, 163, 135]   8     nomagic_mulled_wine   \n",
       "4    [184, 377, 244, 194]   8     nomagic_mulled_wine   \n",
       "..                    ...  ..                     ...   \n",
       "139  [791, 129, 277, 139]   3  nomagic_digitec_cables   \n",
       "140  [345, 139, 271, 109]   3  nomagic_digitec_cables   \n",
       "141  [895, 365, 177, 223]   3  nomagic_digitec_cables   \n",
       "142  [155, 146, 163, 209]   3  nomagic_digitec_cables   \n",
       "143  [177, 116, 875, 495]  12       nomagic_thinkpads   \n",
       "\n",
       "                            im_id  \n",
       "0       nomagic_mulled_wine_3.png  \n",
       "1       nomagic_mulled_wine_3.png  \n",
       "2       nomagic_mulled_wine_3.png  \n",
       "3       nomagic_mulled_wine_3.png  \n",
       "4       nomagic_mulled_wine_3.png  \n",
       "..                            ...  \n",
       "139  nomagic_digitec_cables_1.png  \n",
       "140  nomagic_digitec_cables_1.png  \n",
       "141  nomagic_digitec_cables_1.png  \n",
       "142  nomagic_digitec_cables_1.png  \n",
       "143       nomagic_thinkpads_2.png  \n",
       "\n",
       "[144 rows x 4 columns]"
      ]
     },
     "execution_count": 401,
     "metadata": {},
     "output_type": "execute_result"
    }
   ],
   "source": [
    "df"
   ]
  },
  {
   "cell_type": "code",
   "execution_count": null,
   "id": "44857391",
   "metadata": {},
   "outputs": [],
   "source": []
  },
  {
   "cell_type": "code",
   "execution_count": 565,
   "id": "420284ec",
   "metadata": {},
   "outputs": [],
   "source": [
    "class LoadData:\n",
    "\n",
    "    \n",
    "    def __init__(self, mode):\n",
    "        self.files = []\n",
    "        self.mode = mode\n",
    "        if mode == 'TRAIN':\n",
    "            self.images_path = '../../data/reference_images_part1/'\n",
    "            self.json_path = '../../data/reference_images_part1.json'\n",
    "            self.df = train_df\n",
    "        elif mode == 'VAL':\n",
    "            self.json_path = '../../data/images_part1_valid.json'\n",
    "            self.images_path = '../../data/images_part1_valid/'\n",
    "            self.df = val_df\n",
    "        else:\n",
    "            raise ValueError('usupported mode')\n",
    "\n",
    "        for file in os.listdir(self.images_path):\n",
    "                    if file.endswith('.png'):\n",
    "                        try:\n",
    "                            self.files.append(os.path.join(self.images_path, file))\n",
    "                        except FileNotFoundError as e:\n",
    "                            print(file)\n",
    "\n",
    "    def _get_file_index(self):\n",
    "        return [i for i in self.files]\n",
    "\n",
    "\n",
    "    def __getitem__(self, index):\n",
    "        X = np.asarray(Image.open(self.images_path+self.df.iloc[index]['im_id']))\n",
    "        X = X[self.df.iloc[index]['bbox'][1]:self.df.iloc[index]['bbox'][1]+self.df.iloc[index]['bbox'][3],\n",
    "              self.df.iloc[index]['bbox'][0]:self.df.iloc[index]['bbox'][0]+self.df.iloc[index]['bbox'][2],\n",
    "              :3]\n",
    "        \n",
    "        def normalize(x):\n",
    "            return x/255\n",
    "        \n",
    "        def preprocessing(X):\n",
    "            data_x = np.zeros((600,600,3))\n",
    "            mean=109.9818118\n",
    "\n",
    "            temp_df = X\n",
    "            temp_df_shape = X.shape\n",
    "    \n",
    "            max_shape = np.max(temp_df_shape)\n",
    "            max_shape_orient = np.where(temp_df_shape==max_shape) # zwróci 0 albo 1\n",
    "            temp_arr = np.zeros((max_shape,max_shape,3)) ## mozna czymś wypełnić tło\n",
    "            \n",
    "            if max_shape_orient[0][0] == 0:\n",
    "                t = (temp_df_shape[0] - temp_df_shape[1])//2\n",
    "                temp_arr[:,t:t+temp_df_shape[1],:] = temp_df\n",
    "    \n",
    "            elif max_shape_orient[0][0] == 1:\n",
    "                t = (temp_df_shape[1] - temp_df_shape[0])//2\n",
    "                temp_arr[t:t+temp_df_shape[0],:,:] = temp_df\n",
    "            \n",
    "            \n",
    "            data_x = resize(temp_arr, (600, 600))\n",
    "        \n",
    "            data_x = np.where(data_x==0,mean,data_x)   \n",
    "\n",
    "            return data_x\n",
    "        \n",
    "        return np.reshape(preprocessing(X), (1, 600, 600, 3))"
   ]
  },
  {
   "cell_type": "code",
   "execution_count": 566,
   "id": "6707c8d9",
   "metadata": {},
   "outputs": [
    {
     "data": {
      "text/plain": [
       "<matplotlib.image.AxesImage at 0x17b04d490>"
      ]
     },
     "execution_count": 566,
     "metadata": {},
     "output_type": "execute_result"
    },
    {
     "data": {
      "image/png": "[encoded data removed]",
      "text/plain": [
       "<Figure size 432x288 with 1 Axes>"
      ]
     },
     "metadata": {
      "needs_background": "light"
     },
     "output_type": "display_data"
    }
   ],
   "source": [
    "train_df = load_data('TRAIN')\n",
    "loader = LoadData('TRAIN')\n",
    "plt.imshow(loader[0][0].astype('int64'))"
   ]
  },
  {
   "cell_type": "code",
   "execution_count": 567,
   "id": "3d2c67a2",
   "metadata": {},
   "outputs": [],
   "source": [
    "model_b7 = tf.keras.applications.EfficientNetB7(\n",
    "    include_top=False,\n",
    "    weights=\"imagenet\",\n",
    "    input_tensor=None,\n",
    "    input_shape=(600, 600, 3),\n",
    "    pooling='max',\n",
    "    classes=1000,\n",
    "    classifier_activation=\"softmax\")"
   ]
  },
  {
   "cell_type": "code",
   "execution_count": null,
   "id": "9fcf2fab",
   "metadata": {},
   "outputs": [],
   "source": [
    "embb7 = np.zeros((len(df), 2560))\n",
    "for i in range(len(df)):\n",
    "    embb7[i] = model_b7(loader[i])[0]"
   ]
  },
  {
   "cell_type": "code",
   "execution_count": null,
   "id": "5d101e74",
   "metadata": {},
   "outputs": [],
   "source": [
    "from sklearn.manifold import TSNE\n",
    "from matplotlib import cm\n",
    "import matplotlib.pyplot as plt\n",
    "\n",
    "# Create a two dimensional t-SNE projection of the embeddings\n",
    "tsne = TSNE(2, verbose=1)\n",
    "tsne_proj = tsne.fit_transform(embb7)\n",
    "# Plot those points as a scatter plot and label them based on the pred labels\n",
    "cmap = cm.get_cmap('tab20')\n",
    "fig, ax = plt.subplots(figsize=(8,8))\n",
    "num_categories = 12\n",
    "for lab in range(1, num_categories+2):\n",
    "    indices = np.asarray(df['y'])==lab\n",
    "    ax.scatter(tsne_proj[indices,0],tsne_proj[indices,1], c=np.array(cmap(lab)).reshape(1,4), label = lab ,alpha=1)\n",
    "ax.legend(fontsize='large', markerscale=2)\n",
    "plt.show()"
   ]
  },
  {
   "cell_type": "code",
   "execution_count": null,
   "id": "5228373c",
   "metadata": {},
   "outputs": [],
   "source": [
    "val_df = load_data('VAL')\n",
    "val_gen = LoadData('VAL')"
   ]
  },
  {
   "cell_type": "code",
   "execution_count": null,
   "id": "abf038a8",
   "metadata": {},
   "outputs": [],
   "source": []
  },
  {
   "cell_type": "code",
   "execution_count": null,
   "id": "b7a214be",
   "metadata": {},
   "outputs": [],
   "source": [
    "results = []\n",
    "for i in range(len(val_df)):\n",
    "    if(i>0 and i%100==0):\n",
    "        print(float(i)/len(val_df))\n",
    "    if not val_df.iloc[i]['occ']:\n",
    "        results.append(model_b7(val_gen[i])[0])\n",
    "    else:\n",
    "        results.append(np.NaN)"
   ]
  },
  {
   "cell_type": "code",
   "execution_count": null,
   "id": "10c218de",
   "metadata": {},
   "outputs": [],
   "source": [
    "from scipy.spatial import distance\n",
    "import numpy as np\n",
    "\n",
    "MAX_CLASS = 13 #maksymalne id klasy\n",
    "\n",
    "\n",
    "def compute_distances(x, embedding, method=distance.cosine):\n",
    "    distances = np.zeros((embedding.shape[0]))\n",
    "    for i in range(embedding.shape[0]):\n",
    "        distances[i] = method(embedding[i], x)\n",
    "    return distances"
   ]
  },
  {
   "cell_type": "code",
   "execution_count": null,
   "id": "090e5743",
   "metadata": {},
   "outputs": [],
   "source": [
    "distances=[]\n",
    "\n",
    "for i in range(len(results)):\n",
    "    if results[i] is not np.NaN:\n",
    "        distances.append(compute_distances(results[i], embb7))\n",
    "    else:\n",
    "        distances.append(np.NaN)"
   ]
  },
  {
   "cell_type": "code",
   "execution_count": null,
   "id": "229f8e12",
   "metadata": {},
   "outputs": [],
   "source": [
    "def classify(distances, classes):\n",
    "    '''\n",
    "    same lengths\n",
    "    distances - np.array\n",
    "    classes - np.array\n",
    "    returns: class\n",
    "    '''\n",
    "    weights = {cls: [] for cls in classes}\n",
    "    for i in range(len(distances)):\n",
    "        weights[classes[i]].append(distances[i])\n",
    "\n",
    "    m = max(sum(list(map(lambda x: pow(x, -1), scores)))/len(scores) for scores in weights.values())\n",
    "    for cls in weights.keys():\n",
    "        lm = sum(list(map(lambda x: pow(x, -1), weights[cls])))/len(weights[cls])\n",
    "        if lm == m:\n",
    "            return cls\n",
    "\n",
    "\n",
    "'''\n",
    "distances = [0.2, 0.2, 0.5, 0.8, 0.7, 0.7, 0.6, 0.5, 0.9, 0.6, 0.4, 0.3, 0.05]\n",
    "classes =   ['A', 'B', 'B', 'C', 'A', 'A', 'C', 'C', 'C', 'B', 'B', 'B', 'C']\n",
    "print('max: ', classify(distances, classes))\n",
    "'''"
   ]
  },
  {
   "cell_type": "code",
   "execution_count": null,
   "id": "21c2aa7c",
   "metadata": {},
   "outputs": [],
   "source": [
    "predictions = []\n",
    "\n",
    "\n",
    "for i in range(len(distances)):\n",
    "    if distances[i] is not np.NaN:\n",
    "        predictions.append(classify(distances[i], train_df['y']))\n",
    "    else:\n",
    "        predictions.append(np.NaN)"
   ]
  },
  {
   "cell_type": "code",
   "execution_count": null,
   "id": "656a8f52",
   "metadata": {},
   "outputs": [],
   "source": [
    "results_df = pd.DataFrame()\n",
    "results_df['preds'] = predictions\n",
    "results_df['y'] = val_df['y']"
   ]
  },
  {
   "cell_type": "code",
   "execution_count": null,
   "id": "922b94dd",
   "metadata": {
    "scrolled": true
   },
   "outputs": [],
   "source": [
    "off_res = results_df.dropna(how='any')"
   ]
  },
  {
   "cell_type": "code",
   "execution_count": null,
   "id": "71462562",
   "metadata": {},
   "outputs": [],
   "source": [
    "off_res = off_res.drop(off_res.loc[off_res['y']==7].index)\n",
    "off_res = off_res.drop(off_res.loc[off_res['y']>13].index)"
   ]
  },
  {
   "cell_type": "code",
   "execution_count": null,
   "id": "4fd10bda",
   "metadata": {},
   "outputs": [],
   "source": [
    "(off_res['preds'] == off_res['y']).sum()/(len(off_res))"
   ]
  },
  {
   "cell_type": "code",
   "execution_count": 397,
   "id": "3da4ace4",
   "metadata": {},
   "outputs": [
    {
     "data": {
      "text/plain": [
       "<matplotlib.image.AxesImage at 0x28abbfeb0>"
      ]
     },
     "execution_count": 397,
     "metadata": {},
     "output_type": "execute_result"
    },
    {
     "data": {
      "image/png": "[encoded data removed]",
      "text/plain": [
       "<Figure size 432x288 with 1 Axes>"
      ]
     },
     "metadata": {
      "needs_background": "light"
     },
     "output_type": "display_data"
    }
   ],
   "source": [
    "plt.imshow(val_gen[1722][0].astype('int64'))"
   ]
  },
  {
   "cell_type": "code",
   "execution_count": 378,
   "id": "e9e537ec",
   "metadata": {},
   "outputs": [
    {
     "data": {
      "text/plain": [
       "array([ 1,  2,  3,  4,  5,  6,  8,  9, 10, 11, 12, 13])"
      ]
     },
     "execution_count": 378,
     "metadata": {},
     "output_type": "execute_result"
    }
   ],
   "source": [
    "labs = train_df['y'].unique()\n",
    "labs.sort()\n",
    "labs"
   ]
  },
  {
   "cell_type": "code",
   "execution_count": 391,
   "id": "ef9b6ee5",
   "metadata": {
    "scrolled": true
   },
   "outputs": [
    {
     "data": {
      "text/html": [
       "<div>\n",
       "<style scoped>\n",
       "    .dataframe tbody tr th:only-of-type {\n",
       "        vertical-align: middle;\n",
       "    }\n",
       "\n",
       "    .dataframe tbody tr th {\n",
       "        vertical-align: top;\n",
       "    }\n",
       "\n",
       "    .dataframe thead th {\n",
       "        text-align: right;\n",
       "    }\n",
       "</style>\n",
       "<table border=\"1\" class=\"dataframe\">\n",
       "  <thead>\n",
       "    <tr style=\"text-align: right;\">\n",
       "      <th></th>\n",
       "      <th>preds</th>\n",
       "      <th>y</th>\n",
       "    </tr>\n",
       "  </thead>\n",
       "  <tbody>\n",
       "    <tr>\n",
       "      <th>461</th>\n",
       "      <td>5.0</td>\n",
       "      <td>6</td>\n",
       "    </tr>\n",
       "    <tr>\n",
       "      <th>901</th>\n",
       "      <td>4.0</td>\n",
       "      <td>6</td>\n",
       "    </tr>\n",
       "    <tr>\n",
       "      <th>926</th>\n",
       "      <td>6.0</td>\n",
       "      <td>6</td>\n",
       "    </tr>\n",
       "    <tr>\n",
       "      <th>1722</th>\n",
       "      <td>4.0</td>\n",
       "      <td>6</td>\n",
       "    </tr>\n",
       "    <tr>\n",
       "      <th>2002</th>\n",
       "      <td>4.0</td>\n",
       "      <td>6</td>\n",
       "    </tr>\n",
       "    <tr>\n",
       "      <th>2501</th>\n",
       "      <td>4.0</td>\n",
       "      <td>6</td>\n",
       "    </tr>\n",
       "    <tr>\n",
       "      <th>2522</th>\n",
       "      <td>4.0</td>\n",
       "      <td>6</td>\n",
       "    </tr>\n",
       "    <tr>\n",
       "      <th>3576</th>\n",
       "      <td>6.0</td>\n",
       "      <td>6</td>\n",
       "    </tr>\n",
       "    <tr>\n",
       "      <th>3580</th>\n",
       "      <td>6.0</td>\n",
       "      <td>6</td>\n",
       "    </tr>\n",
       "    <tr>\n",
       "      <th>3605</th>\n",
       "      <td>6.0</td>\n",
       "      <td>6</td>\n",
       "    </tr>\n",
       "    <tr>\n",
       "      <th>3821</th>\n",
       "      <td>5.0</td>\n",
       "      <td>6</td>\n",
       "    </tr>\n",
       "    <tr>\n",
       "      <th>3855</th>\n",
       "      <td>4.0</td>\n",
       "      <td>6</td>\n",
       "    </tr>\n",
       "    <tr>\n",
       "      <th>3917</th>\n",
       "      <td>4.0</td>\n",
       "      <td>6</td>\n",
       "    </tr>\n",
       "    <tr>\n",
       "      <th>4474</th>\n",
       "      <td>6.0</td>\n",
       "      <td>6</td>\n",
       "    </tr>\n",
       "    <tr>\n",
       "      <th>4789</th>\n",
       "      <td>4.0</td>\n",
       "      <td>6</td>\n",
       "    </tr>\n",
       "    <tr>\n",
       "      <th>4807</th>\n",
       "      <td>6.0</td>\n",
       "      <td>6</td>\n",
       "    </tr>\n",
       "    <tr>\n",
       "      <th>5033</th>\n",
       "      <td>5.0</td>\n",
       "      <td>6</td>\n",
       "    </tr>\n",
       "    <tr>\n",
       "      <th>5097</th>\n",
       "      <td>4.0</td>\n",
       "      <td>6</td>\n",
       "    </tr>\n",
       "    <tr>\n",
       "      <th>5154</th>\n",
       "      <td>4.0</td>\n",
       "      <td>6</td>\n",
       "    </tr>\n",
       "    <tr>\n",
       "      <th>5610</th>\n",
       "      <td>6.0</td>\n",
       "      <td>6</td>\n",
       "    </tr>\n",
       "    <tr>\n",
       "      <th>5618</th>\n",
       "      <td>4.0</td>\n",
       "      <td>6</td>\n",
       "    </tr>\n",
       "    <tr>\n",
       "      <th>5619</th>\n",
       "      <td>6.0</td>\n",
       "      <td>6</td>\n",
       "    </tr>\n",
       "    <tr>\n",
       "      <th>5622</th>\n",
       "      <td>4.0</td>\n",
       "      <td>6</td>\n",
       "    </tr>\n",
       "    <tr>\n",
       "      <th>5674</th>\n",
       "      <td>4.0</td>\n",
       "      <td>6</td>\n",
       "    </tr>\n",
       "  </tbody>\n",
       "</table>\n",
       "</div>"
      ],
      "text/plain": [
       "      preds  y\n",
       "461     5.0  6\n",
       "901     4.0  6\n",
       "926     6.0  6\n",
       "1722    4.0  6\n",
       "2002    4.0  6\n",
       "2501    4.0  6\n",
       "2522    4.0  6\n",
       "3576    6.0  6\n",
       "3580    6.0  6\n",
       "3605    6.0  6\n",
       "3821    5.0  6\n",
       "3855    4.0  6\n",
       "3917    4.0  6\n",
       "4474    6.0  6\n",
       "4789    4.0  6\n",
       "4807    6.0  6\n",
       "5033    5.0  6\n",
       "5097    4.0  6\n",
       "5154    4.0  6\n",
       "5610    6.0  6\n",
       "5618    4.0  6\n",
       "5619    6.0  6\n",
       "5622    4.0  6\n",
       "5674    4.0  6"
      ]
     },
     "execution_count": 391,
     "metadata": {},
     "output_type": "execute_result"
    }
   ],
   "source": [
    "off_res.loc[off_res['y'] == 6]"
   ]
  },
  {
   "cell_type": "code",
   "execution_count": 369,
   "id": "9aabee10",
   "metadata": {},
   "outputs": [
    {
     "data": {
      "text/html": [
       "<div>\n",
       "<style scoped>\n",
       "    .dataframe tbody tr th:only-of-type {\n",
       "        vertical-align: middle;\n",
       "    }\n",
       "\n",
       "    .dataframe tbody tr th {\n",
       "        vertical-align: top;\n",
       "    }\n",
       "\n",
       "    .dataframe thead th {\n",
       "        text-align: right;\n",
       "    }\n",
       "</style>\n",
       "<table border=\"1\" class=\"dataframe\">\n",
       "  <thead>\n",
       "    <tr style=\"text-align: right;\">\n",
       "      <th></th>\n",
       "      <th>preds</th>\n",
       "      <th>y</th>\n",
       "    </tr>\n",
       "  </thead>\n",
       "  <tbody>\n",
       "    <tr>\n",
       "      <th>23</th>\n",
       "      <td>4.0</td>\n",
       "      <td>8</td>\n",
       "    </tr>\n",
       "    <tr>\n",
       "      <th>28</th>\n",
       "      <td>4.0</td>\n",
       "      <td>8</td>\n",
       "    </tr>\n",
       "    <tr>\n",
       "      <th>36</th>\n",
       "      <td>4.0</td>\n",
       "      <td>8</td>\n",
       "    </tr>\n",
       "    <tr>\n",
       "      <th>38</th>\n",
       "      <td>4.0</td>\n",
       "      <td>9</td>\n",
       "    </tr>\n",
       "    <tr>\n",
       "      <th>39</th>\n",
       "      <td>4.0</td>\n",
       "      <td>8</td>\n",
       "    </tr>\n",
       "    <tr>\n",
       "      <th>43</th>\n",
       "      <td>4.0</td>\n",
       "      <td>8</td>\n",
       "    </tr>\n",
       "    <tr>\n",
       "      <th>48</th>\n",
       "      <td>4.0</td>\n",
       "      <td>9</td>\n",
       "    </tr>\n",
       "    <tr>\n",
       "      <th>50</th>\n",
       "      <td>4.0</td>\n",
       "      <td>8</td>\n",
       "    </tr>\n",
       "    <tr>\n",
       "      <th>51</th>\n",
       "      <td>8.0</td>\n",
       "      <td>9</td>\n",
       "    </tr>\n",
       "    <tr>\n",
       "      <th>65</th>\n",
       "      <td>4.0</td>\n",
       "      <td>8</td>\n",
       "    </tr>\n",
       "  </tbody>\n",
       "</table>\n",
       "</div>"
      ],
      "text/plain": [
       "    preds  y\n",
       "23    4.0  8\n",
       "28    4.0  8\n",
       "36    4.0  8\n",
       "38    4.0  9\n",
       "39    4.0  8\n",
       "43    4.0  8\n",
       "48    4.0  9\n",
       "50    4.0  8\n",
       "51    8.0  9\n",
       "65    4.0  8"
      ]
     },
     "execution_count": 369,
     "metadata": {},
     "output_type": "execute_result"
    }
   ],
   "source": [
    "off_res.loc[off_res['preds']!=off_res['y']].head(10)"
   ]
  },
  {
   "cell_type": "code",
   "execution_count": 388,
   "id": "baf2f212",
   "metadata": {},
   "outputs": [],
   "source": [
    "deps = np.zeros((14,14))\n",
    "\n",
    "for i in range(len(off_res)):\n",
    "    deps[int(off_res.iloc[i]['preds']), int(off_res.iloc[i]['y'])] += 1"
   ]
  },
  {
   "cell_type": "code",
   "execution_count": 389,
   "id": "844b7384",
   "metadata": {},
   "outputs": [
    {
     "data": {
      "text/plain": [
       "<matplotlib.image.AxesImage at 0x285ccd250>"
      ]
     },
     "execution_count": 389,
     "metadata": {},
     "output_type": "execute_result"
    },
    {
     "data": {
      "image/png": "[encoded data removed]",
      "text/plain": [
       "<Figure size 432x288 with 1 Axes>"
      ]
     },
     "metadata": {
      "needs_background": "light"
     },
     "output_type": "display_data"
    }
   ],
   "source": [
    "plt.imshow(deps, cmap='hot')"
   ]
  },
  {
   "cell_type": "code",
   "execution_count": 398,
   "id": "77db2930",
   "metadata": {},
   "outputs": [
    {
     "name": "stderr",
     "output_type": "stream",
     "text": [
      "/Library/Frameworks/Python.framework/Versions/3.9/lib/python3.9/site-packages/tensorflow_addons/utils/ensure_tf_install.py:53: UserWarning: Tensorflow Addons supports using Python ops for all Tensorflow versions above or equal to 2.6.0 and strictly below 2.9.0 (nightly versions are not supported). \n",
      " The versions of TensorFlow you are currently using is 2.9.1 and is not supported. \n",
      "Some things might work, some things might not.\n",
      "If you were to encounter a bug, do not file an issue.\n",
      "If you want to make sure you're using a tested and supported configuration, either change the TensorFlow version or the TensorFlow Addons's version. \n",
      "You can find the compatibility matrix in TensorFlow Addon's readme:\n",
      "https://github.com/tensorflow/addons\n",
      "  warnings.warn(\n"
     ]
    }
   ],
   "source": [
    "import tensorflow_addons as tfa\n",
    "\n",
    "model_b7.compile(optimizer='adam',\n",
    "                loss=tfa.losses.TripletSemiHardLoss(),\n",
    "                metrics=['accuracy'])"
   ]
  },
  {
   "cell_type": "code",
   "execution_count": null,
   "id": "3b21f28b",
   "metadata": {},
   "outputs": [],
   "source": []
  }
 ],
 "metadata": {
  "kernelspec": {
   "display_name": "Python 3 (ipykernel)",
   "language": "python",
   "name": "python3"
  },
  "language_info": {
   "codemirror_mode": {
    "name": "ipython",
    "version": 3
   },
   "file_extension": ".py",
   "mimetype": "text/x-python",
   "name": "python",
   "nbconvert_exporter": "python",
   "pygments_lexer": "ipython3",
   "version": "3.9.10"
  }
 },
 "nbformat": 4,
 "nbformat_minor": 5
}
