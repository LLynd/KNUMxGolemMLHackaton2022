{
 "cells": [
  {
   "cell_type": "code",
   "execution_count": 42,
   "id": "60ed9aa4",
   "metadata": {},
   "outputs": [],
   "source": [
    "import numpy as np\n",
    "import keras\n",
    "import pandas as pd\n",
    "import json\n",
    "import imageio\n",
    "from skimage.transform import resize\n",
    "import os\n",
    "from PIL import Image\n",
    "import tensorflow as tf\n",
    "import matplotlib.pyplot as plt"
   ]
  },
  {
   "cell_type": "code",
   "execution_count": null,
   "id": "280e895a",
   "metadata": {},
   "outputs": [],
   "source": []
  },
  {
   "cell_type": "code",
   "execution_count": null,
   "id": "4565270d",
   "metadata": {},
   "outputs": [],
   "source": []
  },
  {
   "cell_type": "code",
   "execution_count": null,
   "id": "ca83a323",
   "metadata": {},
   "outputs": [],
   "source": []
  },
  {
   "cell_type": "code",
   "execution_count": 213,
   "id": "def39259",
   "metadata": {},
   "outputs": [],
   "source": [
    "def load_data(mode):\n",
    "    if mode == 'TRAIN':\n",
    "        json_path = '../../data/reference_images_part1.json'\n",
    "        images_path = '../../data/reference_images_part1/'\n",
    "    elif mode == 'VAL':\n",
    "        json_path = '../../data/images_part1_valid.json'\n",
    "        images_path = '../../data/images_part1_valid/'\n",
    "    else:\n",
    "        raise ValueError('usupported mode')\n",
    "    with open(json_path) as json_data:\n",
    "        data = json.load(json_data)\n",
    "    images = pd.DataFrame(data['images'])\n",
    "    annotations = pd.DataFrame(data['annotations'])\n",
    "    categories = pd.DataFrame(data['categories'])\n",
    "    \n",
    "    df = pd.DataFrame()\n",
    "    \n",
    "    \n",
    "    X = []\n",
    "    y = []\n",
    "    y_desc = []\n",
    "    occluded = []\n",
    "    bboxes = []\n",
    "    im_ids = []\n",
    "    \n",
    "    for instance in data['annotations']:\n",
    "        im_id = instance['image_id']\n",
    "        bbox = instance['bbox']\n",
    "        y.append(instance['category_id'])\n",
    "        bboxes.append(np.asarray(bbox).astype('int64'))\n",
    "        #print(images.loc[images['id']==im_id]['file_name'])\n",
    "        im_ids.append(images.loc[images['id']==im_id]['file_name'].values[0])\n",
    "        y_desc.append(categories.loc[categories['id']==instance['category_id']]['name'].values[0])\n",
    "        if mode=='TRAIN':\n",
    "            occluded.append(False)\n",
    "        elif mode=='VAL':\n",
    "            occluded.append(instance['occluded'])\n",
    "        \n",
    "    df['bbox'] = bboxes\n",
    "    df['y'] = y\n",
    "    df['desc'] = y_desc\n",
    "    df['im_id'] = im_ids\n",
    "    df['occ'] = occluded\n",
    "    \n",
    "    return df"
   ]
  },
  {
   "cell_type": "code",
   "execution_count": 171,
   "id": "d6fd93c6",
   "metadata": {},
   "outputs": [
    {
     "data": {
      "text/html": [
       "<div>\n",
       "<style scoped>\n",
       "    .dataframe tbody tr th:only-of-type {\n",
       "        vertical-align: middle;\n",
       "    }\n",
       "\n",
       "    .dataframe tbody tr th {\n",
       "        vertical-align: top;\n",
       "    }\n",
       "\n",
       "    .dataframe thead th {\n",
       "        text-align: right;\n",
       "    }\n",
       "</style>\n",
       "<table border=\"1\" class=\"dataframe\">\n",
       "  <thead>\n",
       "    <tr style=\"text-align: right;\">\n",
       "      <th></th>\n",
       "      <th>bbox</th>\n",
       "      <th>y</th>\n",
       "      <th>desc</th>\n",
       "      <th>im_id</th>\n",
       "    </tr>\n",
       "  </thead>\n",
       "  <tbody>\n",
       "    <tr>\n",
       "      <th>0</th>\n",
       "      <td>[665, 448, 206, 174]</td>\n",
       "      <td>8</td>\n",
       "      <td>nomagic_mulled_wine</td>\n",
       "      <td>nomagic_mulled_wine_3.png</td>\n",
       "    </tr>\n",
       "    <tr>\n",
       "      <th>1</th>\n",
       "      <td>[475, 186, 236, 186]</td>\n",
       "      <td>8</td>\n",
       "      <td>nomagic_mulled_wine</td>\n",
       "      <td>nomagic_mulled_wine_3.png</td>\n",
       "    </tr>\n",
       "    <tr>\n",
       "      <th>2</th>\n",
       "      <td>[962, 76, 229, 217]</td>\n",
       "      <td>8</td>\n",
       "      <td>nomagic_mulled_wine</td>\n",
       "      <td>nomagic_mulled_wine_3.png</td>\n",
       "    </tr>\n",
       "    <tr>\n",
       "      <th>3</th>\n",
       "      <td>[778, 250, 163, 135]</td>\n",
       "      <td>8</td>\n",
       "      <td>nomagic_mulled_wine</td>\n",
       "      <td>nomagic_mulled_wine_3.png</td>\n",
       "    </tr>\n",
       "    <tr>\n",
       "      <th>4</th>\n",
       "      <td>[184, 377, 244, 194]</td>\n",
       "      <td>8</td>\n",
       "      <td>nomagic_mulled_wine</td>\n",
       "      <td>nomagic_mulled_wine_3.png</td>\n",
       "    </tr>\n",
       "    <tr>\n",
       "      <th>...</th>\n",
       "      <td>...</td>\n",
       "      <td>...</td>\n",
       "      <td>...</td>\n",
       "      <td>...</td>\n",
       "    </tr>\n",
       "    <tr>\n",
       "      <th>139</th>\n",
       "      <td>[791, 129, 277, 139]</td>\n",
       "      <td>3</td>\n",
       "      <td>nomagic_digitec_cables</td>\n",
       "      <td>nomagic_digitec_cables_1.png</td>\n",
       "    </tr>\n",
       "    <tr>\n",
       "      <th>140</th>\n",
       "      <td>[345, 139, 271, 109]</td>\n",
       "      <td>3</td>\n",
       "      <td>nomagic_digitec_cables</td>\n",
       "      <td>nomagic_digitec_cables_1.png</td>\n",
       "    </tr>\n",
       "    <tr>\n",
       "      <th>141</th>\n",
       "      <td>[895, 365, 177, 223]</td>\n",
       "      <td>3</td>\n",
       "      <td>nomagic_digitec_cables</td>\n",
       "      <td>nomagic_digitec_cables_1.png</td>\n",
       "    </tr>\n",
       "    <tr>\n",
       "      <th>142</th>\n",
       "      <td>[155, 146, 163, 209]</td>\n",
       "      <td>3</td>\n",
       "      <td>nomagic_digitec_cables</td>\n",
       "      <td>nomagic_digitec_cables_1.png</td>\n",
       "    </tr>\n",
       "    <tr>\n",
       "      <th>143</th>\n",
       "      <td>[177, 116, 875, 495]</td>\n",
       "      <td>12</td>\n",
       "      <td>nomagic_thinkpads</td>\n",
       "      <td>nomagic_thinkpads_2.png</td>\n",
       "    </tr>\n",
       "  </tbody>\n",
       "</table>\n",
       "<p>144 rows × 4 columns</p>\n",
       "</div>"
      ],
      "text/plain": [
       "                     bbox   y                    desc  \\\n",
       "0    [665, 448, 206, 174]   8     nomagic_mulled_wine   \n",
       "1    [475, 186, 236, 186]   8     nomagic_mulled_wine   \n",
       "2     [962, 76, 229, 217]   8     nomagic_mulled_wine   \n",
       "3    [778, 250, 163, 135]   8     nomagic_mulled_wine   \n",
       "4    [184, 377, 244, 194]   8     nomagic_mulled_wine   \n",
       "..                    ...  ..                     ...   \n",
       "139  [791, 129, 277, 139]   3  nomagic_digitec_cables   \n",
       "140  [345, 139, 271, 109]   3  nomagic_digitec_cables   \n",
       "141  [895, 365, 177, 223]   3  nomagic_digitec_cables   \n",
       "142  [155, 146, 163, 209]   3  nomagic_digitec_cables   \n",
       "143  [177, 116, 875, 495]  12       nomagic_thinkpads   \n",
       "\n",
       "                            im_id  \n",
       "0       nomagic_mulled_wine_3.png  \n",
       "1       nomagic_mulled_wine_3.png  \n",
       "2       nomagic_mulled_wine_3.png  \n",
       "3       nomagic_mulled_wine_3.png  \n",
       "4       nomagic_mulled_wine_3.png  \n",
       "..                            ...  \n",
       "139  nomagic_digitec_cables_1.png  \n",
       "140  nomagic_digitec_cables_1.png  \n",
       "141  nomagic_digitec_cables_1.png  \n",
       "142  nomagic_digitec_cables_1.png  \n",
       "143       nomagic_thinkpads_2.png  \n",
       "\n",
       "[144 rows x 4 columns]"
      ]
     },
     "execution_count": 171,
     "metadata": {},
     "output_type": "execute_result"
    }
   ],
   "source": [
    "df"
   ]
  },
  {
   "cell_type": "code",
   "execution_count": null,
   "id": "34190f0c",
   "metadata": {},
   "outputs": [],
   "source": []
  },
  {
   "cell_type": "code",
   "execution_count": 261,
   "id": "7327ebbc",
   "metadata": {},
   "outputs": [],
   "source": [
    "class LoadData:\n",
    "\n",
    "    \n",
    "    def __init__(self, mode):\n",
    "        self.files = []\n",
    "        self.mode = mode\n",
    "        if mode == 'TRAIN':\n",
    "            self.images_path = '../../data/reference_images_part1/'\n",
    "            self.json_path = '../../data/reference_images_part1.json'\n",
    "            self.df = train_df\n",
    "        elif mode == 'VAL':\n",
    "            self.json_path = '../../data/images_part1_valid.json'\n",
    "            self.images_path = '../../data/images_part1_valid/'\n",
    "            self.df = val_df\n",
    "        else:\n",
    "            raise ValueError('usupported mode')\n",
    "\n",
    "        for file in os.listdir(self.images_path):\n",
    "                    if file.endswith('.png'):\n",
    "                        try:\n",
    "                            self.files.append(os.path.join(self.images_path, file))\n",
    "                        except FileNotFoundError as e:\n",
    "                            print(file)\n",
    "\n",
    "    def _get_file_index(self):\n",
    "        return [i for i in self.files]\n",
    "\n",
    "\n",
    "    def __getitem__(self, index):\n",
    "        X = np.asarray(Image.open(self.images_path+self.df.iloc[index]['im_id']))\n",
    "        X = X[self.df.iloc[index]['bbox'][1]:self.df.iloc[index]['bbox'][1]+self.df.iloc[index]['bbox'][3],\n",
    "              self.df.iloc[index]['bbox'][0]:self.df.iloc[index]['bbox'][0]+self.df.iloc[index]['bbox'][2],\n",
    "              :3]\n",
    "        \n",
    "        def normalize(x):\n",
    "            return x/255\n",
    "        \n",
    "        def preprocessing(X):\n",
    "            data_x = np.zeros((256,256,3))\n",
    "            mean=109.9818118\n",
    "\n",
    "            temp_df = X\n",
    "            temp_df_shape = X.shape\n",
    "    \n",
    "            max_shape = np.max(temp_df_shape)\n",
    "            max_shape_orient = np.where(temp_df_shape==max_shape) # zwróci 0 albo 1\n",
    "            temp_arr = np.zeros((max_shape,max_shape,3)) ## mozna czymś wypełnić tło\n",
    "            \n",
    "            if max_shape_orient[0][0] == 0:\n",
    "                t = (temp_df_shape[0] - temp_df_shape[1])//2\n",
    "                temp_arr[:,t:t+temp_df_shape[1],:] = temp_df\n",
    "    \n",
    "            elif max_shape_orient[0][0] == 1:\n",
    "                t = (temp_df_shape[1] - temp_df_shape[0])//2\n",
    "                temp_arr[t:t+temp_df_shape[0],:,:] = temp_df\n",
    "            \n",
    "            \n",
    "            data_x = resize(temp_arr, (256, 256))\n",
    "        \n",
    "            data_x = np.where(data_x==0,mean,data_x)   \n",
    "\n",
    "            return data_x\n",
    "        \n",
    "        return np.reshape(preprocessing(X), (1, 256, 256, 3))"
   ]
  },
  {
   "cell_type": "code",
   "execution_count": 294,
   "id": "ed08093b",
   "metadata": {},
   "outputs": [
    {
     "data": {
      "text/plain": [
       "<matplotlib.image.AxesImage at 0x2cf65e460>"
      ]
     },
     "execution_count": 294,
     "metadata": {},
     "output_type": "execute_result"
    },
    {
     "data": {
      "image/png": "[encoded data removed]",
      "text/plain": [
       "<Figure size 432x288 with 1 Axes>"
      ]
     },
     "metadata": {
      "needs_background": "light"
     },
     "output_type": "display_data"
    }
   ],
   "source": [
    "train_df = load_data('TRAIN')\n",
    "loader = LoadData('TRAIN')\n",
    "plt.imshow(loader[0][0].astype('int64'))"
   ]
  },
  {
   "cell_type": "code",
   "execution_count": 295,
   "id": "5bf58008",
   "metadata": {},
   "outputs": [],
   "source": [
    "model_b7 = tf.keras.applications.EfficientNetB7(\n",
    "    include_top=False,\n",
    "    weights=\"imagenet\",\n",
    "    input_tensor=None,\n",
    "    input_shape=(256, 256, 3),\n",
    "    pooling='max',\n",
    "    classes=1000,\n",
    "    classifier_activation=\"softmax\")"
   ]
  },
  {
   "cell_type": "code",
   "execution_count": 296,
   "id": "d6fcdae3",
   "metadata": {},
   "outputs": [],
   "source": [
    "embb7 = np.zeros((len(df), 2560))\n",
    "for i in range(len(df)):\n",
    "    embb7[i] = model_b7(loader[i])[0]"
   ]
  },
  {
   "cell_type": "code",
   "execution_count": 297,
   "id": "ed43d055",
   "metadata": {},
   "outputs": [
    {
     "name": "stderr",
     "output_type": "stream",
     "text": [
      "/Library/Frameworks/Python.framework/Versions/3.9/lib/python3.9/site-packages/sklearn/manifold/_t_sne.py:780: FutureWarning: The default initialization in TSNE will change from 'random' to 'pca' in 1.2.\n",
      "  warnings.warn(\n",
      "/Library/Frameworks/Python.framework/Versions/3.9/lib/python3.9/site-packages/sklearn/manifold/_t_sne.py:790: FutureWarning: The default learning rate in TSNE will change from 200.0 to 'auto' in 1.2.\n",
      "  warnings.warn(\n"
     ]
    },
    {
     "name": "stdout",
     "output_type": "stream",
     "text": [
      "[t-SNE] Computing 91 nearest neighbors...\n",
      "[t-SNE] Indexed 144 samples in 0.001s...\n",
      "[t-SNE] Computed neighbors for 144 samples in 0.023s...\n",
      "[t-SNE] Computed conditional probabilities for sample 144 / 144\n",
      "[t-SNE] Mean sigma: 25.140057\n",
      "[t-SNE] KL divergence after 250 iterations with early exaggeration: 65.178940\n",
      "[t-SNE] KL divergence after 1000 iterations: 0.352360\n"
     ]
    },
    {
     "data": {
      "image/png": "[encoded data removed]",
      "text/plain": [
       "<Figure size 576x576 with 1 Axes>"
      ]
     },
     "metadata": {
      "needs_background": "light"
     },
     "output_type": "display_data"
    }
   ],
   "source": [
    "from sklearn.manifold import TSNE\n",
    "from matplotlib import cm\n",
    "import matplotlib.pyplot as plt\n",
    "\n",
    "# Create a two dimensional t-SNE projection of the embeddings\n",
    "tsne = TSNE(2, verbose=1)\n",
    "tsne_proj = tsne.fit_transform(embb7)\n",
    "# Plot those points as a scatter plot and label them based on the pred labels\n",
    "cmap = cm.get_cmap('tab20')\n",
    "fig, ax = plt.subplots(figsize=(8,8))\n",
    "num_categories = 12\n",
    "for lab in range(1, num_categories+2):\n",
    "    indices = np.asarray(df['y'])==lab\n",
    "    ax.scatter(tsne_proj[indices,0],tsne_proj[indices,1], c=np.array(cmap(lab)).reshape(1,4), label = lab ,alpha=1)\n",
    "ax.legend(fontsize='large', markerscale=2)\n",
    "plt.show()"
   ]
  },
  {
   "cell_type": "code",
   "execution_count": 262,
   "id": "bf377679",
   "metadata": {},
   "outputs": [],
   "source": [
    "val_df = load_data('VAL')\n",
    "val_gen = LoadData('VAL')"
   ]
  },
  {
   "cell_type": "code",
   "execution_count": 276,
   "id": "8a5cbada",
   "metadata": {},
   "outputs": [
    {
     "data": {
      "text/plain": [
       "5"
      ]
     },
     "execution_count": 276,
     "metadata": {},
     "output_type": "execute_result"
    }
   ],
   "source": []
  },
  {
   "cell_type": "code",
   "execution_count": 280,
   "id": "f1de0d4b",
   "metadata": {},
   "outputs": [
    {
     "name": "stdout",
     "output_type": "stream",
     "text": [
      "0.01669195751138088\n",
      "0.017905918057663128\n",
      "0.044764795144157814\n",
      "0.08952959028831563\n",
      "0.09848254931714719\n",
      "0.19696509863429437\n",
      "0.49241274658573597\n",
      "0.9848254931714719\n"
     ]
    }
   ],
   "source": [
    "results = []\n",
    "for i in range(len(val_df)):\n",
    "    if(i>0 and len(val_df)%i==100):\n",
    "        print(float(i)/len(val_df))\n",
    "    if not val_df.iloc[i]['occ']:\n",
    "        results.append(model_b7(val_gen[i])[0])\n",
    "    else:\n",
    "        results.append(np.NaN)"
   ]
  },
  {
   "cell_type": "code",
   "execution_count": 285,
   "id": "35e71e2b",
   "metadata": {},
   "outputs": [],
   "source": [
    "from scipy.spatial import distance\n",
    "import numpy as np\n",
    "\n",
    "MAX_CLASS = 13 #maksymalne id klasy\n",
    "\n",
    "\n",
    "def compute_distances(x, embedding, method=distance.euclidean):\n",
    "    distances = np.zeros((embedding.shape[0]))\n",
    "    for i in range(embedding.shape[0]):\n",
    "        distances[i] = method(embedding[i], x)\n",
    "    return distances"
   ]
  },
  {
   "cell_type": "code",
   "execution_count": 299,
   "id": "c5e182c9",
   "metadata": {},
   "outputs": [],
   "source": [
    "distances=[]\n",
    "\n",
    "for i in range(len(results)):\n",
    "    if results[i] is not np.NaN:\n",
    "        distances.append(compute_distances(results[i], embb7))\n",
    "    else:\n",
    "        distances.append(np.NaN)"
   ]
  },
  {
   "cell_type": "code",
   "execution_count": 340,
   "id": "9c2f293a",
   "metadata": {},
   "outputs": [
    {
     "data": {
      "text/plain": [
       "\"\\ndistances = [0.2, 0.2, 0.5, 0.8, 0.7, 0.7, 0.6, 0.5, 0.9, 0.6, 0.4, 0.3, 0.05]\\nclasses =   ['A', 'B', 'B', 'C', 'A', 'A', 'C', 'C', 'C', 'B', 'B', 'B', 'C']\\nprint('max: ', classify(distances, classes))\\n\""
      ]
     },
     "execution_count": 340,
     "metadata": {},
     "output_type": "execute_result"
    }
   ],
   "source": [
    "def classify(distances, classes):\n",
    "    '''\n",
    "    same lengths\n",
    "    distances - np.array\n",
    "    classes - np.array\n",
    "    returns: class\n",
    "    '''\n",
    "    weights = {cls: [] for cls in classes}\n",
    "    for i in range(len(distances)):\n",
    "        weights[classes[i]].append(distances[i])\n",
    "\n",
    "    m = max(sum(list(map(lambda x: pow(x, -1), scores)))/len(scores) for scores in weights.values())\n",
    "    for cls in weights.keys():\n",
    "        lm = sum(list(map(lambda x: pow(x, -1), weights[cls])))/len(weights[cls])\n",
    "        if lm == m:\n",
    "            return cls\n",
    "\n",
    "\n",
    "'''\n",
    "distances = [0.2, 0.2, 0.5, 0.8, 0.7, 0.7, 0.6, 0.5, 0.9, 0.6, 0.4, 0.3, 0.05]\n",
    "classes =   ['A', 'B', 'B', 'C', 'A', 'A', 'C', 'C', 'C', 'B', 'B', 'B', 'C']\n",
    "print('max: ', classify(distances, classes))\n",
    "'''"
   ]
  },
  {
   "cell_type": "code",
   "execution_count": 341,
   "id": "ccc6ba0f",
   "metadata": {},
   "outputs": [],
   "source": [
    "predictions = []\n",
    "\n",
    "\n",
    "for i in range(len(distances)):\n",
    "    if distances[i] is not np.NaN:\n",
    "        predictions.append(classify(distances[i], train_df['y']))\n",
    "    else:\n",
    "        predictions.append(np.NaN)"
   ]
  },
  {
   "cell_type": "code",
   "execution_count": 344,
   "id": "85a09db6",
   "metadata": {},
   "outputs": [],
   "source": [
    "results_df = pd.DataFrame()\n",
    "results_df['preds'] = predictions\n",
    "results_df['y'] = val_df['y']"
   ]
  },
  {
   "cell_type": "code",
   "execution_count": 348,
   "id": "19f6a80e",
   "metadata": {
    "scrolled": true
   },
   "outputs": [],
   "source": [
    "off_res = results_df.dropna(how='any')"
   ]
  },
  {
   "cell_type": "code",
   "execution_count": 383,
   "id": "2ae10978",
   "metadata": {},
   "outputs": [
    {
     "ename": "KeyError",
     "evalue": "\"['preds', 'y'] not found in axis\"",
     "output_type": "error",
     "traceback": [
      "\u001b[0;31m---------------------------------------------------------------------------\u001b[0m",
      "\u001b[0;31mKeyError\u001b[0m                                  Traceback (most recent call last)",
      "Input \u001b[0;32mIn [383]\u001b[0m, in \u001b[0;36m<cell line: 1>\u001b[0;34m()\u001b[0m\n\u001b[0;32m----> 1\u001b[0m \u001b[43moff_res\u001b[49m\u001b[38;5;241;43m.\u001b[39;49m\u001b[43mdrop\u001b[49m\u001b[43m(\u001b[49m\u001b[43moff_res\u001b[49m\u001b[38;5;241;43m.\u001b[39;49m\u001b[43mloc\u001b[49m\u001b[43m[\u001b[49m\u001b[43moff_res\u001b[49m\u001b[43m[\u001b[49m\u001b[38;5;124;43m'\u001b[39;49m\u001b[38;5;124;43my\u001b[39;49m\u001b[38;5;124;43m'\u001b[39;49m\u001b[43m]\u001b[49m\u001b[38;5;241;43m==\u001b[39;49m\u001b[38;5;241;43m7\u001b[39;49m\u001b[43m]\u001b[49m\u001b[43m)\u001b[49m\n\u001b[1;32m      2\u001b[0m off_res\u001b[38;5;241m.\u001b[39mdrop(off_res\u001b[38;5;241m.\u001b[39mloc[off_res[\u001b[38;5;124m'\u001b[39m\u001b[38;5;124my\u001b[39m\u001b[38;5;124m'\u001b[39m]\u001b[38;5;241m>\u001b[39m\u001b[38;5;241m13\u001b[39m])\n",
      "File \u001b[0;32m/Library/Frameworks/Python.framework/Versions/3.9/lib/python3.9/site-packages/pandas/util/_decorators.py:311\u001b[0m, in \u001b[0;36mdeprecate_nonkeyword_arguments.<locals>.decorate.<locals>.wrapper\u001b[0;34m(*args, **kwargs)\u001b[0m\n\u001b[1;32m    305\u001b[0m \u001b[38;5;28;01mif\u001b[39;00m \u001b[38;5;28mlen\u001b[39m(args) \u001b[38;5;241m>\u001b[39m num_allow_args:\n\u001b[1;32m    306\u001b[0m     warnings\u001b[38;5;241m.\u001b[39mwarn(\n\u001b[1;32m    307\u001b[0m         msg\u001b[38;5;241m.\u001b[39mformat(arguments\u001b[38;5;241m=\u001b[39marguments),\n\u001b[1;32m    308\u001b[0m         \u001b[38;5;167;01mFutureWarning\u001b[39;00m,\n\u001b[1;32m    309\u001b[0m         stacklevel\u001b[38;5;241m=\u001b[39mstacklevel,\n\u001b[1;32m    310\u001b[0m     )\n\u001b[0;32m--> 311\u001b[0m \u001b[38;5;28;01mreturn\u001b[39;00m \u001b[43mfunc\u001b[49m\u001b[43m(\u001b[49m\u001b[38;5;241;43m*\u001b[39;49m\u001b[43margs\u001b[49m\u001b[43m,\u001b[49m\u001b[43m \u001b[49m\u001b[38;5;241;43m*\u001b[39;49m\u001b[38;5;241;43m*\u001b[39;49m\u001b[43mkwargs\u001b[49m\u001b[43m)\u001b[49m\n",
      "File \u001b[0;32m/Library/Frameworks/Python.framework/Versions/3.9/lib/python3.9/site-packages/pandas/core/frame.py:4948\u001b[0m, in \u001b[0;36mDataFrame.drop\u001b[0;34m(self, labels, axis, index, columns, level, inplace, errors)\u001b[0m\n\u001b[1;32m   4800\u001b[0m \u001b[38;5;129m@deprecate_nonkeyword_arguments\u001b[39m(version\u001b[38;5;241m=\u001b[39m\u001b[38;5;28;01mNone\u001b[39;00m, allowed_args\u001b[38;5;241m=\u001b[39m[\u001b[38;5;124m\"\u001b[39m\u001b[38;5;124mself\u001b[39m\u001b[38;5;124m\"\u001b[39m, \u001b[38;5;124m\"\u001b[39m\u001b[38;5;124mlabels\u001b[39m\u001b[38;5;124m\"\u001b[39m])\n\u001b[1;32m   4801\u001b[0m \u001b[38;5;28;01mdef\u001b[39;00m \u001b[38;5;21mdrop\u001b[39m(\n\u001b[1;32m   4802\u001b[0m     \u001b[38;5;28mself\u001b[39m,\n\u001b[0;32m   (...)\u001b[0m\n\u001b[1;32m   4809\u001b[0m     errors: \u001b[38;5;28mstr\u001b[39m \u001b[38;5;241m=\u001b[39m \u001b[38;5;124m\"\u001b[39m\u001b[38;5;124mraise\u001b[39m\u001b[38;5;124m\"\u001b[39m,\n\u001b[1;32m   4810\u001b[0m ):\n\u001b[1;32m   4811\u001b[0m     \u001b[38;5;124;03m\"\"\"\u001b[39;00m\n\u001b[1;32m   4812\u001b[0m \u001b[38;5;124;03m    Drop specified labels from rows or columns.\u001b[39;00m\n\u001b[1;32m   4813\u001b[0m \n\u001b[0;32m   (...)\u001b[0m\n\u001b[1;32m   4946\u001b[0m \u001b[38;5;124;03m            weight  1.0     0.8\u001b[39;00m\n\u001b[1;32m   4947\u001b[0m \u001b[38;5;124;03m    \"\"\"\u001b[39;00m\n\u001b[0;32m-> 4948\u001b[0m     \u001b[38;5;28;01mreturn\u001b[39;00m \u001b[38;5;28;43msuper\u001b[39;49m\u001b[43m(\u001b[49m\u001b[43m)\u001b[49m\u001b[38;5;241;43m.\u001b[39;49m\u001b[43mdrop\u001b[49m\u001b[43m(\u001b[49m\n\u001b[1;32m   4949\u001b[0m \u001b[43m        \u001b[49m\u001b[43mlabels\u001b[49m\u001b[38;5;241;43m=\u001b[39;49m\u001b[43mlabels\u001b[49m\u001b[43m,\u001b[49m\n\u001b[1;32m   4950\u001b[0m \u001b[43m        \u001b[49m\u001b[43maxis\u001b[49m\u001b[38;5;241;43m=\u001b[39;49m\u001b[43maxis\u001b[49m\u001b[43m,\u001b[49m\n\u001b[1;32m   4951\u001b[0m \u001b[43m        \u001b[49m\u001b[43mindex\u001b[49m\u001b[38;5;241;43m=\u001b[39;49m\u001b[43mindex\u001b[49m\u001b[43m,\u001b[49m\n\u001b[1;32m   4952\u001b[0m \u001b[43m        \u001b[49m\u001b[43mcolumns\u001b[49m\u001b[38;5;241;43m=\u001b[39;49m\u001b[43mcolumns\u001b[49m\u001b[43m,\u001b[49m\n\u001b[1;32m   4953\u001b[0m \u001b[43m        \u001b[49m\u001b[43mlevel\u001b[49m\u001b[38;5;241;43m=\u001b[39;49m\u001b[43mlevel\u001b[49m\u001b[43m,\u001b[49m\n\u001b[1;32m   4954\u001b[0m \u001b[43m        \u001b[49m\u001b[43minplace\u001b[49m\u001b[38;5;241;43m=\u001b[39;49m\u001b[43minplace\u001b[49m\u001b[43m,\u001b[49m\n\u001b[1;32m   4955\u001b[0m \u001b[43m        \u001b[49m\u001b[43merrors\u001b[49m\u001b[38;5;241;43m=\u001b[39;49m\u001b[43merrors\u001b[49m\u001b[43m,\u001b[49m\n\u001b[1;32m   4956\u001b[0m \u001b[43m    \u001b[49m\u001b[43m)\u001b[49m\n",
      "File \u001b[0;32m/Library/Frameworks/Python.framework/Versions/3.9/lib/python3.9/site-packages/pandas/core/generic.py:4279\u001b[0m, in \u001b[0;36mNDFrame.drop\u001b[0;34m(self, labels, axis, index, columns, level, inplace, errors)\u001b[0m\n\u001b[1;32m   4277\u001b[0m \u001b[38;5;28;01mfor\u001b[39;00m axis, labels \u001b[38;5;129;01min\u001b[39;00m axes\u001b[38;5;241m.\u001b[39mitems():\n\u001b[1;32m   4278\u001b[0m     \u001b[38;5;28;01mif\u001b[39;00m labels \u001b[38;5;129;01mis\u001b[39;00m \u001b[38;5;129;01mnot\u001b[39;00m \u001b[38;5;28;01mNone\u001b[39;00m:\n\u001b[0;32m-> 4279\u001b[0m         obj \u001b[38;5;241m=\u001b[39m \u001b[43mobj\u001b[49m\u001b[38;5;241;43m.\u001b[39;49m\u001b[43m_drop_axis\u001b[49m\u001b[43m(\u001b[49m\u001b[43mlabels\u001b[49m\u001b[43m,\u001b[49m\u001b[43m \u001b[49m\u001b[43maxis\u001b[49m\u001b[43m,\u001b[49m\u001b[43m \u001b[49m\u001b[43mlevel\u001b[49m\u001b[38;5;241;43m=\u001b[39;49m\u001b[43mlevel\u001b[49m\u001b[43m,\u001b[49m\u001b[43m \u001b[49m\u001b[43merrors\u001b[49m\u001b[38;5;241;43m=\u001b[39;49m\u001b[43merrors\u001b[49m\u001b[43m)\u001b[49m\n\u001b[1;32m   4281\u001b[0m \u001b[38;5;28;01mif\u001b[39;00m inplace:\n\u001b[1;32m   4282\u001b[0m     \u001b[38;5;28mself\u001b[39m\u001b[38;5;241m.\u001b[39m_update_inplace(obj)\n",
      "File \u001b[0;32m/Library/Frameworks/Python.framework/Versions/3.9/lib/python3.9/site-packages/pandas/core/generic.py:4323\u001b[0m, in \u001b[0;36mNDFrame._drop_axis\u001b[0;34m(self, labels, axis, level, errors, consolidate, only_slice)\u001b[0m\n\u001b[1;32m   4321\u001b[0m         new_axis \u001b[38;5;241m=\u001b[39m axis\u001b[38;5;241m.\u001b[39mdrop(labels, level\u001b[38;5;241m=\u001b[39mlevel, errors\u001b[38;5;241m=\u001b[39merrors)\n\u001b[1;32m   4322\u001b[0m     \u001b[38;5;28;01melse\u001b[39;00m:\n\u001b[0;32m-> 4323\u001b[0m         new_axis \u001b[38;5;241m=\u001b[39m \u001b[43maxis\u001b[49m\u001b[38;5;241;43m.\u001b[39;49m\u001b[43mdrop\u001b[49m\u001b[43m(\u001b[49m\u001b[43mlabels\u001b[49m\u001b[43m,\u001b[49m\u001b[43m \u001b[49m\u001b[43merrors\u001b[49m\u001b[38;5;241;43m=\u001b[39;49m\u001b[43merrors\u001b[49m\u001b[43m)\u001b[49m\n\u001b[1;32m   4324\u001b[0m     indexer \u001b[38;5;241m=\u001b[39m axis\u001b[38;5;241m.\u001b[39mget_indexer(new_axis)\n\u001b[1;32m   4326\u001b[0m \u001b[38;5;66;03m# Case for non-unique axis\u001b[39;00m\n\u001b[1;32m   4327\u001b[0m \u001b[38;5;28;01melse\u001b[39;00m:\n",
      "File \u001b[0;32m/Library/Frameworks/Python.framework/Versions/3.9/lib/python3.9/site-packages/pandas/core/indexes/base.py:6644\u001b[0m, in \u001b[0;36mIndex.drop\u001b[0;34m(self, labels, errors)\u001b[0m\n\u001b[1;32m   6642\u001b[0m \u001b[38;5;28;01mif\u001b[39;00m mask\u001b[38;5;241m.\u001b[39many():\n\u001b[1;32m   6643\u001b[0m     \u001b[38;5;28;01mif\u001b[39;00m errors \u001b[38;5;241m!=\u001b[39m \u001b[38;5;124m\"\u001b[39m\u001b[38;5;124mignore\u001b[39m\u001b[38;5;124m\"\u001b[39m:\n\u001b[0;32m-> 6644\u001b[0m         \u001b[38;5;28;01mraise\u001b[39;00m \u001b[38;5;167;01mKeyError\u001b[39;00m(\u001b[38;5;124mf\u001b[39m\u001b[38;5;124m\"\u001b[39m\u001b[38;5;132;01m{\u001b[39;00m\u001b[38;5;28mlist\u001b[39m(labels[mask])\u001b[38;5;132;01m}\u001b[39;00m\u001b[38;5;124m not found in axis\u001b[39m\u001b[38;5;124m\"\u001b[39m)\n\u001b[1;32m   6645\u001b[0m     indexer \u001b[38;5;241m=\u001b[39m indexer[\u001b[38;5;241m~\u001b[39mmask]\n\u001b[1;32m   6646\u001b[0m \u001b[38;5;28;01mreturn\u001b[39;00m \u001b[38;5;28mself\u001b[39m\u001b[38;5;241m.\u001b[39mdelete(indexer)\n",
      "\u001b[0;31mKeyError\u001b[0m: \"['preds', 'y'] not found in axis\""
     ]
    }
   ],
   "source": [
    "off_res.drop(off_res.loc[off_res['y']==7])\n",
    "off_res.drop(off_res.loc[off_res['y']>13])"
   ]
  },
  {
   "cell_type": "code",
   "execution_count": 382,
   "id": "14e87102",
   "metadata": {},
   "outputs": [
    {
     "data": {
      "text/plain": [
       "0.6326230712711242"
      ]
     },
     "execution_count": 382,
     "metadata": {},
     "output_type": "execute_result"
    }
   ],
   "source": [
    "(off_res['preds'] == off_res['y']).sum()/(len(off_res))"
   ]
  },
  {
   "cell_type": "code",
   "execution_count": 368,
   "id": "405e40ba",
   "metadata": {},
   "outputs": [
    {
     "data": {
      "text/plain": [
       "<matplotlib.image.AxesImage at 0x2cbd9a3a0>"
      ]
     },
     "execution_count": 368,
     "metadata": {},
     "output_type": "execute_result"
    },
    {
     "data": {
      "image/png": "[encoded data removed]",
      "text/plain": [
       "<Figure size 432x288 with 1 Axes>"
      ]
     },
     "metadata": {
      "needs_background": "light"
     },
     "output_type": "display_data"
    }
   ],
   "source": [
    "plt.imshow(val_gen[0][0].astype('int64'))"
   ]
  },
  {
   "cell_type": "code",
   "execution_count": 378,
   "id": "63c1b337",
   "metadata": {},
   "outputs": [
    {
     "data": {
      "text/plain": [
       "array([ 1,  2,  3,  4,  5,  6,  8,  9, 10, 11, 12, 13])"
      ]
     },
     "execution_count": 378,
     "metadata": {},
     "output_type": "execute_result"
    }
   ],
   "source": [
    "labs = train_df['y'].unique()\n",
    "labs.sort()\n",
    "labs"
   ]
  },
  {
   "cell_type": "code",
   "execution_count": 380,
   "id": "da34438a",
   "metadata": {},
   "outputs": [
    {
     "data": {
      "text/html": [
       "<div>\n",
       "<style scoped>\n",
       "    .dataframe tbody tr th:only-of-type {\n",
       "        vertical-align: middle;\n",
       "    }\n",
       "\n",
       "    .dataframe tbody tr th {\n",
       "        vertical-align: top;\n",
       "    }\n",
       "\n",
       "    .dataframe thead th {\n",
       "        text-align: right;\n",
       "    }\n",
       "</style>\n",
       "<table border=\"1\" class=\"dataframe\">\n",
       "  <thead>\n",
       "    <tr style=\"text-align: right;\">\n",
       "      <th></th>\n",
       "      <th>preds</th>\n",
       "      <th>y</th>\n",
       "    </tr>\n",
       "  </thead>\n",
       "  <tbody>\n",
       "    <tr>\n",
       "      <th>382</th>\n",
       "      <td>2.0</td>\n",
       "      <td>14</td>\n",
       "    </tr>\n",
       "    <tr>\n",
       "      <th>383</th>\n",
       "      <td>2.0</td>\n",
       "      <td>14</td>\n",
       "    </tr>\n",
       "    <tr>\n",
       "      <th>1041</th>\n",
       "      <td>3.0</td>\n",
       "      <td>14</td>\n",
       "    </tr>\n",
       "    <tr>\n",
       "      <th>1042</th>\n",
       "      <td>2.0</td>\n",
       "      <td>14</td>\n",
       "    </tr>\n",
       "    <tr>\n",
       "      <th>1050</th>\n",
       "      <td>2.0</td>\n",
       "      <td>14</td>\n",
       "    </tr>\n",
       "    <tr>\n",
       "      <th>...</th>\n",
       "      <td>...</td>\n",
       "      <td>...</td>\n",
       "    </tr>\n",
       "    <tr>\n",
       "      <th>5794</th>\n",
       "      <td>8.0</td>\n",
       "      <td>14</td>\n",
       "    </tr>\n",
       "    <tr>\n",
       "      <th>5805</th>\n",
       "      <td>8.0</td>\n",
       "      <td>14</td>\n",
       "    </tr>\n",
       "    <tr>\n",
       "      <th>6272</th>\n",
       "      <td>2.0</td>\n",
       "      <td>14</td>\n",
       "    </tr>\n",
       "    <tr>\n",
       "      <th>6300</th>\n",
       "      <td>11.0</td>\n",
       "      <td>14</td>\n",
       "    </tr>\n",
       "    <tr>\n",
       "      <th>6356</th>\n",
       "      <td>5.0</td>\n",
       "      <td>14</td>\n",
       "    </tr>\n",
       "  </tbody>\n",
       "</table>\n",
       "<p>68 rows × 2 columns</p>\n",
       "</div>"
      ],
      "text/plain": [
       "      preds   y\n",
       "382     2.0  14\n",
       "383     2.0  14\n",
       "1041    3.0  14\n",
       "1042    2.0  14\n",
       "1050    2.0  14\n",
       "...     ...  ..\n",
       "5794    8.0  14\n",
       "5805    8.0  14\n",
       "6272    2.0  14\n",
       "6300   11.0  14\n",
       "6356    5.0  14\n",
       "\n",
       "[68 rows x 2 columns]"
      ]
     },
     "execution_count": 380,
     "metadata": {},
     "output_type": "execute_result"
    }
   ],
   "source": [
    "off_res.loc[off_res['y'] > 13]"
   ]
  },
  {
   "cell_type": "code",
   "execution_count": 369,
   "id": "a5ed011d",
   "metadata": {},
   "outputs": [
    {
     "data": {
      "text/html": [
       "<div>\n",
       "<style scoped>\n",
       "    .dataframe tbody tr th:only-of-type {\n",
       "        vertical-align: middle;\n",
       "    }\n",
       "\n",
       "    .dataframe tbody tr th {\n",
       "        vertical-align: top;\n",
       "    }\n",
       "\n",
       "    .dataframe thead th {\n",
       "        text-align: right;\n",
       "    }\n",
       "</style>\n",
       "<table border=\"1\" class=\"dataframe\">\n",
       "  <thead>\n",
       "    <tr style=\"text-align: right;\">\n",
       "      <th></th>\n",
       "      <th>preds</th>\n",
       "      <th>y</th>\n",
       "    </tr>\n",
       "  </thead>\n",
       "  <tbody>\n",
       "    <tr>\n",
       "      <th>23</th>\n",
       "      <td>4.0</td>\n",
       "      <td>8</td>\n",
       "    </tr>\n",
       "    <tr>\n",
       "      <th>28</th>\n",
       "      <td>4.0</td>\n",
       "      <td>8</td>\n",
       "    </tr>\n",
       "    <tr>\n",
       "      <th>36</th>\n",
       "      <td>4.0</td>\n",
       "      <td>8</td>\n",
       "    </tr>\n",
       "    <tr>\n",
       "      <th>38</th>\n",
       "      <td>4.0</td>\n",
       "      <td>9</td>\n",
       "    </tr>\n",
       "    <tr>\n",
       "      <th>39</th>\n",
       "      <td>4.0</td>\n",
       "      <td>8</td>\n",
       "    </tr>\n",
       "    <tr>\n",
       "      <th>43</th>\n",
       "      <td>4.0</td>\n",
       "      <td>8</td>\n",
       "    </tr>\n",
       "    <tr>\n",
       "      <th>48</th>\n",
       "      <td>4.0</td>\n",
       "      <td>9</td>\n",
       "    </tr>\n",
       "    <tr>\n",
       "      <th>50</th>\n",
       "      <td>4.0</td>\n",
       "      <td>8</td>\n",
       "    </tr>\n",
       "    <tr>\n",
       "      <th>51</th>\n",
       "      <td>8.0</td>\n",
       "      <td>9</td>\n",
       "    </tr>\n",
       "    <tr>\n",
       "      <th>65</th>\n",
       "      <td>4.0</td>\n",
       "      <td>8</td>\n",
       "    </tr>\n",
       "  </tbody>\n",
       "</table>\n",
       "</div>"
      ],
      "text/plain": [
       "    preds  y\n",
       "23    4.0  8\n",
       "28    4.0  8\n",
       "36    4.0  8\n",
       "38    4.0  9\n",
       "39    4.0  8\n",
       "43    4.0  8\n",
       "48    4.0  9\n",
       "50    4.0  8\n",
       "51    8.0  9\n",
       "65    4.0  8"
      ]
     },
     "execution_count": 369,
     "metadata": {},
     "output_type": "execute_result"
    }
   ],
   "source": [
    "off_res.loc[off_res['preds']!=off_res['y']].head(10)"
   ]
  },
  {
   "cell_type": "code",
   "execution_count": 373,
   "id": "e9e0b1cb",
   "metadata": {},
   "outputs": [
    {
     "name": "stdout",
     "output_type": "stream",
     "text": [
      "4, 4\n",
      "4, 4\n",
      "8, 8\n",
      "4, 4\n",
      "4, 8\n",
      "8, 8\n",
      "8, 8\n",
      "4, 8\n",
      "4, 4\n",
      "4, 8\n",
      "4, 9\n",
      "4, 8\n",
      "8, 8\n",
      "8, 8\n",
      "4, 8\n",
      "4, 9\n",
      "4, 8\n",
      "8, 9\n",
      "8, 8\n",
      "4, 8\n",
      "4, 9\n",
      "9, 9\n",
      "9, 9\n",
      "6, 9\n",
      "9, 9\n",
      "9, 9\n",
      "9, 9\n",
      "9, 9\n",
      "9, 9\n",
      "9, 9\n",
      "11, 11\n",
      "11, 11\n",
      "11, 11\n",
      "1, 1\n",
      "4, 1\n",
      "5, 9\n",
      "11, 11\n",
      "9, 9\n",
      "5, 1\n",
      "1, 1\n",
      "11, 11\n",
      "4, 5\n",
      "1, 1\n",
      "4, 11\n",
      "5, 5\n",
      "5, 5\n",
      "9, 9\n",
      "1, 1\n",
      "11, 11\n",
      "11, 11\n",
      "5, 5\n",
      "4, 1\n",
      "5, 5\n",
      "4, 11\n",
      "1, 1\n",
      "3, 3\n",
      "5, 10\n",
      "5, 10\n",
      "3, 3\n",
      "3, 3\n",
      "3, 3\n",
      "4, 3\n",
      "3, 3\n",
      "10, 10\n",
      "3, 3\n",
      "3, 3\n",
      "2, 2\n",
      "4, 3\n",
      "6, 2\n",
      "3, 3\n",
      "3, 3\n",
      "3, 3\n",
      "3, 3\n",
      "2, 2\n",
      "3, 3\n",
      "4, 3\n",
      "3, 3\n",
      "3, 3\n",
      "3, 3\n",
      "3, 3\n",
      "4, 3\n",
      "10, 10\n",
      "3, 3\n",
      "2, 2\n",
      "2, 14\n"
     ]
    },
    {
     "ename": "IndexError",
     "evalue": "index 14 is out of bounds for axis 1 with size 13",
     "output_type": "error",
     "traceback": [
      "\u001b[0;31m---------------------------------------------------------------------------\u001b[0m",
      "\u001b[0;31mIndexError\u001b[0m                                Traceback (most recent call last)",
      "Input \u001b[0;32mIn [373]\u001b[0m, in \u001b[0;36m<cell line: 3>\u001b[0;34m()\u001b[0m\n\u001b[1;32m      3\u001b[0m \u001b[38;5;28;01mfor\u001b[39;00m i \u001b[38;5;129;01min\u001b[39;00m \u001b[38;5;28mrange\u001b[39m(\u001b[38;5;28mlen\u001b[39m(off_res)):\n\u001b[1;32m      4\u001b[0m     \u001b[38;5;28mprint\u001b[39m(\u001b[38;5;124mf\u001b[39m\u001b[38;5;124m\"\u001b[39m\u001b[38;5;132;01m{\u001b[39;00m\u001b[38;5;28mint\u001b[39m(off_res\u001b[38;5;241m.\u001b[39miloc[i][\u001b[38;5;124m'\u001b[39m\u001b[38;5;124mpreds\u001b[39m\u001b[38;5;124m'\u001b[39m])\u001b[38;5;132;01m}\u001b[39;00m\u001b[38;5;124m, \u001b[39m\u001b[38;5;132;01m{\u001b[39;00m\u001b[38;5;28mint\u001b[39m(off_res\u001b[38;5;241m.\u001b[39miloc[i][\u001b[38;5;124m'\u001b[39m\u001b[38;5;124my\u001b[39m\u001b[38;5;124m'\u001b[39m])\u001b[38;5;132;01m}\u001b[39;00m\u001b[38;5;124m\"\u001b[39m)\n\u001b[0;32m----> 5\u001b[0m     deps[\u001b[38;5;28mint\u001b[39m(off_res\u001b[38;5;241m.\u001b[39miloc[i][\u001b[38;5;124m'\u001b[39m\u001b[38;5;124mpreds\u001b[39m\u001b[38;5;124m'\u001b[39m]), \u001b[38;5;28mint\u001b[39m(off_res\u001b[38;5;241m.\u001b[39miloc[i][\u001b[38;5;124m'\u001b[39m\u001b[38;5;124my\u001b[39m\u001b[38;5;124m'\u001b[39m])] \u001b[38;5;241m+\u001b[39m\u001b[38;5;241m=\u001b[39m \u001b[38;5;241m1\u001b[39m\n",
      "\u001b[0;31mIndexError\u001b[0m: index 14 is out of bounds for axis 1 with size 13"
     ]
    }
   ],
   "source": [
    "deps = np.zeros((13,13))\n",
    "\n",
    "for i in range(len(off_res)):\n",
    "    \n",
    "    deps[int(off_res.iloc[i]['preds']), int(off_res.iloc[i]['y'])] += 1"
   ]
  },
  {
   "cell_type": "code",
   "execution_count": null,
   "id": "13ce13f1",
   "metadata": {},
   "outputs": [],
   "source": []
  }
 ],
 "metadata": {
  "kernelspec": {
   "display_name": "Python 3 (ipykernel)",
   "language": "python",
   "name": "python3"
  },
  "language_info": {
   "codemirror_mode": {
    "name": "ipython",
    "version": 3
   },
   "file_extension": ".py",
   "mimetype": "text/x-python",
   "name": "python",
   "nbconvert_exporter": "python",
   "pygments_lexer": "ipython3",
   "version": "3.9.10"
  }
 },
 "nbformat": 4,
 "nbformat_minor": 5
}
