{
 "cells": [
  {
   "cell_type": "code",
   "execution_count": 1,
   "id": "8ff105bf",
   "metadata": {},
   "outputs": [],
   "source": [
    "import numpy as np\n",
    "import keras\n",
    "import pandas as pd\n",
    "import json\n",
    "import imageio\n",
    "from skimage.transform import resize\n",
    "import os\n",
    "from PIL import Image\n",
    "import tensorflow as tf\n",
    "import matplotlib.pyplot as plt"
   ]
  },
  {
   "cell_type": "code",
   "execution_count": null,
   "id": "2f85d937",
   "metadata": {},
   "outputs": [],
   "source": []
  },
  {
   "cell_type": "code",
   "execution_count": null,
   "id": "060999c2",
   "metadata": {},
   "outputs": [],
   "source": []
  },
  {
   "cell_type": "code",
   "execution_count": null,
   "id": "644181f1",
   "metadata": {},
   "outputs": [],
   "source": []
  },
  {
   "cell_type": "code",
   "execution_count": 54,
   "id": "42c38d15",
   "metadata": {},
   "outputs": [],
   "source": [
    "def load_data(mode):\n",
    "    if mode == 'TRAIN':\n",
    "        json_path = 'data/reference_images_part1.json'\n",
    "        images_path = 'data/reference_images_part1/'\n",
    "    elif mode == 'VAL':\n",
    "        json_path = 'data/images_part1_test_public.json'\n",
    "        images_path = 'data/images_part1_test/'\n",
    "    else:\n",
    "        raise ValueError('usupported mode')\n",
    "    with open(json_path) as json_data:\n",
    "        data = json.load(json_data)\n",
    "    images = pd.DataFrame(data['images'])\n",
    "    annotations = pd.DataFrame(data['annotations'])\n",
    "    categories = pd.DataFrame(data['categories'])\n",
    "    \n",
    "    df = pd.DataFrame()\n",
    "    \n",
    "    \n",
    "    X = []\n",
    "    y = []\n",
    "    y_desc = []\n",
    "    occluded = []\n",
    "    bboxes = []\n",
    "    im_ids = []\n",
    "    \n",
    "    for instance in data['annotations']:\n",
    "        im_id = instance['image_id']\n",
    "        bbox = instance['bbox']\n",
    "        y.append(instance['category_id'])\n",
    "        bboxes.append(np.asarray(bbox).astype('int64'))\n",
    "        #print(images.loc[images['id']==im_id]['file_name'])\n",
    "        im_ids.append(images.loc[images['id']==im_id]['file_name'].values[0])\n",
    "        y_desc.append(0)\n",
    "        if mode=='TRAIN':\n",
    "            occluded.append(False)\n",
    "        elif mode=='VAL':\n",
    "            occluded.append(instance['occluded'])\n",
    "        \n",
    "    df['bbox'] = bboxes\n",
    "    df['y'] = y\n",
    "    df['desc'] = y_desc\n",
    "    df['im_id'] = im_ids\n",
    "    df['occ'] = occluded\n",
    "    \n",
    "    return df"
   ]
  },
  {
   "cell_type": "code",
   "execution_count": null,
   "id": "81ba239b",
   "metadata": {},
   "outputs": [],
   "source": []
  },
  {
   "cell_type": "code",
   "execution_count": null,
   "id": "f0ca0301",
   "metadata": {},
   "outputs": [],
   "source": []
  },
  {
   "cell_type": "code",
   "execution_count": 26,
   "id": "d503753b",
   "metadata": {},
   "outputs": [],
   "source": [
    "class LoadData:\n",
    "\n",
    "    \n",
    "    def __init__(self, mode):\n",
    "        self.files = []\n",
    "        self.mode = mode\n",
    "        if mode == 'TRAIN':\n",
    "            self.images_path = 'data/reference_images_part1/'\n",
    "            self.json_path = 'data/reference_images_part1.json'\n",
    "            self.df = train_df\n",
    "        elif mode == 'VAL':\n",
    "            self.json_path = 'data/images_part1_test_public.json'\n",
    "            self.images_path = 'data/images_part1_test/'\n",
    "            self.df = val_df\n",
    "        else:\n",
    "            raise ValueError('usupported mode')\n",
    "\n",
    "        for file in os.listdir(self.images_path):\n",
    "                    if file.endswith('.png'):\n",
    "                        try:\n",
    "                            self.files.append(os.path.join(self.images_path, file))\n",
    "                        except FileNotFoundError as e:\n",
    "                            print(file)\n",
    "\n",
    "    def _get_file_index(self):\n",
    "        return [i for i in self.files]\n",
    "\n",
    "\n",
    "    def __getitem__(self, index):\n",
    "        X = np.asarray(Image.open(self.images_path+self.df.iloc[index]['im_id']))\n",
    "        X = X[self.df.iloc[index]['bbox'][1]:self.df.iloc[index]['bbox'][1]+self.df.iloc[index]['bbox'][3],\n",
    "              self.df.iloc[index]['bbox'][0]:self.df.iloc[index]['bbox'][0]+self.df.iloc[index]['bbox'][2],\n",
    "              :3]\n",
    "        \n",
    "        def normalize(x):\n",
    "            return x/255\n",
    "        \n",
    "        def preprocessing(X):\n",
    "            data_x = np.zeros((256,256,3))\n",
    "            mean=109.9818118\n",
    "\n",
    "            temp_df = X\n",
    "            temp_df_shape = X.shape\n",
    "    \n",
    "            max_shape = np.max(temp_df_shape)\n",
    "            max_shape_orient = np.where(temp_df_shape==max_shape) # zwróci 0 albo 1\n",
    "            temp_arr = np.zeros((max_shape,max_shape,3)) ## mozna czymś wypełnić tło\n",
    "            \n",
    "            if max_shape_orient[0][0] == 0:\n",
    "                t = (temp_df_shape[0] - temp_df_shape[1])//2\n",
    "                temp_arr[:,t:t+temp_df_shape[1],:] = temp_df\n",
    "    \n",
    "            elif max_shape_orient[0][0] == 1:\n",
    "                t = (temp_df_shape[1] - temp_df_shape[0])//2\n",
    "                temp_arr[t:t+temp_df_shape[0],:,:] = temp_df\n",
    "            \n",
    "            \n",
    "            data_x = resize(temp_arr, (256, 256))\n",
    "        \n",
    "            data_x = np.where(data_x==0,mean,data_x)   \n",
    "\n",
    "            return data_x\n",
    "        \n",
    "        return np.reshape(preprocessing(X), (1, 256, 256, 3))"
   ]
  },
  {
   "cell_type": "code",
   "execution_count": 47,
   "id": "a09a157f",
   "metadata": {},
   "outputs": [
    {
     "data": {
      "text/plain": [
       "<matplotlib.image.AxesImage at 0x232567a7340>"
      ]
     },
     "execution_count": 47,
     "metadata": {},
     "output_type": "execute_result"
    },
    {
     "data": {
      "image/png": "[encoded data removed]",
      "text/plain": [
       "<Figure size 432x288 with 1 Axes>"
      ]
     },
     "metadata": {
      "needs_background": "light"
     },
     "output_type": "display_data"
    }
   ],
   "source": [
    "train_df = load_data('TRAIN')\n",
    "loader = LoadData('TRAIN')\n",
    "plt.imshow(loader[0][0].astype('int64'))"
   ]
  },
  {
   "cell_type": "code",
   "execution_count": 28,
   "id": "f911947e",
   "metadata": {},
   "outputs": [],
   "source": [
    "model_b7 = tf.keras.applications.EfficientNetB7(\n",
    "    include_top=False,\n",
    "    weights=\"imagenet\",\n",
    "    input_tensor=None,\n",
    "    input_shape=(256, 256, 3),\n",
    "    pooling='max',\n",
    "    classes=1000,\n",
    "    classifier_activation=\"softmax\")"
   ]
  },
  {
   "cell_type": "code",
   "execution_count": 42,
   "id": "0ed0c22c",
   "metadata": {},
   "outputs": [],
   "source": [
    "embb7 = np.zeros((len(train_df), 2560))\n",
    "for i in range(len(train_df)):\n",
    "    embb7[i] = model_b7(loader[i])[0]"
   ]
  },
  {
   "cell_type": "code",
   "execution_count": 52,
   "id": "3e804e60",
   "metadata": {},
   "outputs": [
    {
     "name": "stdout",
     "output_type": "stream",
     "text": [
      "[t-SNE] Computing 91 nearest neighbors...\n",
      "[t-SNE] Indexed 144 samples in 0.001s...\n",
      "[t-SNE] Computed neighbors for 144 samples in 0.003s...\n",
      "[t-SNE] Computed conditional probabilities for sample 144 / 144\n",
      "[t-SNE] Mean sigma: 24.096463\n",
      "[t-SNE] KL divergence after 250 iterations with early exaggeration: 60.433369\n",
      "[t-SNE] KL divergence after 1000 iterations: 0.328955\n"
     ]
    },
    {
     "data": {
      "image/png": "[encoded data removed]",
      "text/plain": [
       "<Figure size 576x576 with 1 Axes>"
      ]
     },
     "metadata": {
      "needs_background": "light"
     },
     "output_type": "display_data"
    }
   ],
   "source": [
    "from sklearn.manifold import TSNE\n",
    "from matplotlib import cm\n",
    "import matplotlib.pyplot as plt\n",
    "\n",
    "tsne = TSNE(2, verbose=1)\n",
    "tsne_proj = tsne.fit_transform(embb7)\n",
    "cmap = cm.get_cmap('tab20')\n",
    "fig, ax = plt.subplots(figsize=(8,8))\n",
    "num_categories = 12\n",
    "for lab in range(1, num_categories+2):\n",
    "    indices = np.asarray(train_df['y'])==lab ########## Przy uruchomieniu zrobić zamiast df train_df lub val_df\n",
    "    ax.scatter(tsne_proj[indices,0],tsne_proj[indices,1], c=np.array(cmap(lab)).reshape(1,4), label = lab ,alpha=1)\n",
    "ax.legend(fontsize='large', markerscale=2)\n",
    "plt.show()"
   ]
  },
  {
   "cell_type": "code",
   "execution_count": 55,
   "id": "1df04002",
   "metadata": {},
   "outputs": [],
   "source": [
    "val_df = load_data('VAL')\n",
    "val_gen = LoadData('VAL')"
   ]
  },
  {
   "cell_type": "code",
   "execution_count": null,
   "id": "0a4ff478",
   "metadata": {},
   "outputs": [],
   "source": []
  },
  {
   "cell_type": "code",
   "execution_count": 56,
   "id": "a10b402d",
   "metadata": {},
   "outputs": [
    {
     "name": "stdout",
     "output_type": "stream",
     "text": [
      "0.030003000300030003\n",
      "0.060006000600060005\n",
      "0.09000900090009001\n",
      "0.12001200120012001\n",
      "0.15001500150015\n",
      "0.18001800180018002\n",
      "0.21002100210021002\n",
      "0.24002400240024002\n",
      "0.27002700270027\n",
      "0.3000300030003\n",
      "0.33003300330033003\n",
      "0.36003600360036003\n",
      "0.39003900390039004\n",
      "0.42004200420042004\n",
      "0.45004500450045004\n",
      "0.48004800480048004\n",
      "0.51005100510051\n",
      "0.54005400540054\n",
      "0.57005700570057\n",
      "0.6000600060006\n",
      "0.6300630063006301\n",
      "0.6600660066006601\n",
      "0.6900690069006901\n",
      "0.7200720072007201\n",
      "0.7500750075007501\n",
      "0.7800780078007801\n",
      "0.8100810081008101\n",
      "0.8400840084008401\n",
      "0.8700870087008701\n",
      "0.9000900090009001\n",
      "0.9300930093009301\n",
      "0.9600960096009601\n",
      "0.9900990099009901\n"
     ]
    }
   ],
   "source": [
    "results = []\n",
    "for i in range(len(val_df)):\n",
    "    if(i>0 and i%100==0):\n",
    "        print(float(i)/len(val_df))\n",
    "    if not val_df.iloc[i]['occ']:\n",
    "        results.append(model_b7(val_gen[i])[0])\n",
    "    else:\n",
    "        results.append(np.NaN)"
   ]
  },
  {
   "cell_type": "code",
   "execution_count": 57,
   "id": "2be51cbd",
   "metadata": {},
   "outputs": [],
   "source": [
    "from scipy.spatial import distance\n",
    "import numpy as np\n",
    "\n",
    "MAX_CLASS = 13 #maksymalne id klasy\n",
    "\n",
    "\n",
    "def compute_distances(x, embedding, method=distance.cosine):\n",
    "    distances = np.zeros((embedding.shape[0]))\n",
    "    for i in range(embedding.shape[0]):\n",
    "        distances[i] = method(embedding[i], x)\n",
    "    return distances"
   ]
  },
  {
   "cell_type": "code",
   "execution_count": 58,
   "id": "11636038",
   "metadata": {},
   "outputs": [],
   "source": [
    "distances=[]\n",
    "\n",
    "for i in range(len(results)):\n",
    "    if results[i] is not np.NaN:\n",
    "        distances.append(compute_distances(results[i], embb7))\n",
    "    else:\n",
    "        distances.append(np.NaN)"
   ]
  },
  {
   "cell_type": "code",
   "execution_count": null,
   "id": "fdf804eb",
   "metadata": {},
   "outputs": [],
   "source": []
  },
  {
   "cell_type": "code",
   "execution_count": 59,
   "id": "bef0d820",
   "metadata": {},
   "outputs": [],
   "source": [
    "distances_df = pd.DataFrame(columns=range(144))\n",
    "\n",
    "for i in range(len(distances)):\n",
    "    if distances[i] is not np.NaN:\n",
    "        a = pd.DataFrame(distances[i]).T\n",
    "        distances_df = distances_df.append(a, ignore_index=True)\n",
    "    else:\n",
    "        distances_df = distances_df.append(pd.DataFrame([np.NaN]*144).T)"
   ]
  },
  {
   "cell_type": "code",
   "execution_count": 60,
   "id": "f9251ff0",
   "metadata": {},
   "outputs": [
    {
     "data": {
      "text/html": [
       "<div>\n",
       "<style scoped>\n",
       "    .dataframe tbody tr th:only-of-type {\n",
       "        vertical-align: middle;\n",
       "    }\n",
       "\n",
       "    .dataframe tbody tr th {\n",
       "        vertical-align: top;\n",
       "    }\n",
       "\n",
       "    .dataframe thead th {\n",
       "        text-align: right;\n",
       "    }\n",
       "</style>\n",
       "<table border=\"1\" class=\"dataframe\">\n",
       "  <thead>\n",
       "    <tr style=\"text-align: right;\">\n",
       "      <th></th>\n",
       "      <th>0</th>\n",
       "      <th>1</th>\n",
       "      <th>2</th>\n",
       "      <th>3</th>\n",
       "      <th>4</th>\n",
       "      <th>5</th>\n",
       "      <th>6</th>\n",
       "      <th>7</th>\n",
       "      <th>8</th>\n",
       "      <th>9</th>\n",
       "      <th>...</th>\n",
       "      <th>134</th>\n",
       "      <th>135</th>\n",
       "      <th>136</th>\n",
       "      <th>137</th>\n",
       "      <th>138</th>\n",
       "      <th>139</th>\n",
       "      <th>140</th>\n",
       "      <th>141</th>\n",
       "      <th>142</th>\n",
       "      <th>143</th>\n",
       "    </tr>\n",
       "  </thead>\n",
       "  <tbody>\n",
       "    <tr>\n",
       "      <th>0</th>\n",
       "      <td>0.277760</td>\n",
       "      <td>0.263622</td>\n",
       "      <td>0.265875</td>\n",
       "      <td>0.309096</td>\n",
       "      <td>0.279387</td>\n",
       "      <td>0.289523</td>\n",
       "      <td>0.280914</td>\n",
       "      <td>0.263681</td>\n",
       "      <td>0.274686</td>\n",
       "      <td>0.235407</td>\n",
       "      <td>...</td>\n",
       "      <td>0.280938</td>\n",
       "      <td>0.262028</td>\n",
       "      <td>0.258222</td>\n",
       "      <td>0.305322</td>\n",
       "      <td>0.248322</td>\n",
       "      <td>0.253884</td>\n",
       "      <td>0.318953</td>\n",
       "      <td>0.302738</td>\n",
       "      <td>0.317501</td>\n",
       "      <td>0.269901</td>\n",
       "    </tr>\n",
       "    <tr>\n",
       "      <th>1</th>\n",
       "      <td>0.280141</td>\n",
       "      <td>0.258346</td>\n",
       "      <td>0.315105</td>\n",
       "      <td>0.321671</td>\n",
       "      <td>0.268860</td>\n",
       "      <td>0.299402</td>\n",
       "      <td>0.326422</td>\n",
       "      <td>0.267233</td>\n",
       "      <td>0.289967</td>\n",
       "      <td>0.283411</td>\n",
       "      <td>...</td>\n",
       "      <td>0.275485</td>\n",
       "      <td>0.326595</td>\n",
       "      <td>0.250587</td>\n",
       "      <td>0.307220</td>\n",
       "      <td>0.302750</td>\n",
       "      <td>0.288386</td>\n",
       "      <td>0.330523</td>\n",
       "      <td>0.294811</td>\n",
       "      <td>0.321443</td>\n",
       "      <td>0.344148</td>\n",
       "    </tr>\n",
       "    <tr>\n",
       "      <th>2</th>\n",
       "      <td>0.161587</td>\n",
       "      <td>0.157372</td>\n",
       "      <td>0.196389</td>\n",
       "      <td>0.211964</td>\n",
       "      <td>0.170820</td>\n",
       "      <td>0.211063</td>\n",
       "      <td>0.220392</td>\n",
       "      <td>0.138747</td>\n",
       "      <td>0.177799</td>\n",
       "      <td>0.125638</td>\n",
       "      <td>...</td>\n",
       "      <td>0.212964</td>\n",
       "      <td>0.195686</td>\n",
       "      <td>0.195297</td>\n",
       "      <td>0.269210</td>\n",
       "      <td>0.237636</td>\n",
       "      <td>0.241654</td>\n",
       "      <td>0.297018</td>\n",
       "      <td>0.258780</td>\n",
       "      <td>0.297787</td>\n",
       "      <td>0.248637</td>\n",
       "    </tr>\n",
       "    <tr>\n",
       "      <th>3</th>\n",
       "      <td>0.294040</td>\n",
       "      <td>0.241433</td>\n",
       "      <td>0.311173</td>\n",
       "      <td>0.264910</td>\n",
       "      <td>0.272758</td>\n",
       "      <td>0.311695</td>\n",
       "      <td>0.260209</td>\n",
       "      <td>0.274026</td>\n",
       "      <td>0.300492</td>\n",
       "      <td>0.290986</td>\n",
       "      <td>...</td>\n",
       "      <td>0.315280</td>\n",
       "      <td>0.314131</td>\n",
       "      <td>0.199638</td>\n",
       "      <td>0.274799</td>\n",
       "      <td>0.234305</td>\n",
       "      <td>0.221104</td>\n",
       "      <td>0.313611</td>\n",
       "      <td>0.268131</td>\n",
       "      <td>0.290978</td>\n",
       "      <td>0.333071</td>\n",
       "    </tr>\n",
       "    <tr>\n",
       "      <th>8</th>\n",
       "      <td>0.279143</td>\n",
       "      <td>0.267304</td>\n",
       "      <td>0.283000</td>\n",
       "      <td>0.317978</td>\n",
       "      <td>0.280961</td>\n",
       "      <td>0.284139</td>\n",
       "      <td>0.301932</td>\n",
       "      <td>0.264709</td>\n",
       "      <td>0.264126</td>\n",
       "      <td>0.255963</td>\n",
       "      <td>...</td>\n",
       "      <td>0.276685</td>\n",
       "      <td>0.270342</td>\n",
       "      <td>0.261385</td>\n",
       "      <td>0.318402</td>\n",
       "      <td>0.266408</td>\n",
       "      <td>0.266212</td>\n",
       "      <td>0.339802</td>\n",
       "      <td>0.320710</td>\n",
       "      <td>0.323255</td>\n",
       "      <td>0.251400</td>\n",
       "    </tr>\n",
       "    <tr>\n",
       "      <th>...</th>\n",
       "      <td>...</td>\n",
       "      <td>...</td>\n",
       "      <td>...</td>\n",
       "      <td>...</td>\n",
       "      <td>...</td>\n",
       "      <td>...</td>\n",
       "      <td>...</td>\n",
       "      <td>...</td>\n",
       "      <td>...</td>\n",
       "      <td>...</td>\n",
       "      <td>...</td>\n",
       "      <td>...</td>\n",
       "      <td>...</td>\n",
       "      <td>...</td>\n",
       "      <td>...</td>\n",
       "      <td>...</td>\n",
       "      <td>...</td>\n",
       "      <td>...</td>\n",
       "      <td>...</td>\n",
       "      <td>...</td>\n",
       "      <td>...</td>\n",
       "    </tr>\n",
       "    <tr>\n",
       "      <th>3296</th>\n",
       "      <td>0.274666</td>\n",
       "      <td>0.242820</td>\n",
       "      <td>0.278944</td>\n",
       "      <td>0.283339</td>\n",
       "      <td>0.250088</td>\n",
       "      <td>0.271230</td>\n",
       "      <td>0.263545</td>\n",
       "      <td>0.269605</td>\n",
       "      <td>0.276060</td>\n",
       "      <td>0.291239</td>\n",
       "      <td>...</td>\n",
       "      <td>0.272756</td>\n",
       "      <td>0.297963</td>\n",
       "      <td>0.240680</td>\n",
       "      <td>0.322419</td>\n",
       "      <td>0.294876</td>\n",
       "      <td>0.287057</td>\n",
       "      <td>0.344293</td>\n",
       "      <td>0.303947</td>\n",
       "      <td>0.314885</td>\n",
       "      <td>0.308617</td>\n",
       "    </tr>\n",
       "    <tr>\n",
       "      <th>3297</th>\n",
       "      <td>0.295893</td>\n",
       "      <td>0.263863</td>\n",
       "      <td>0.314529</td>\n",
       "      <td>0.330223</td>\n",
       "      <td>0.288407</td>\n",
       "      <td>0.312717</td>\n",
       "      <td>0.328499</td>\n",
       "      <td>0.295515</td>\n",
       "      <td>0.279123</td>\n",
       "      <td>0.319106</td>\n",
       "      <td>...</td>\n",
       "      <td>0.294825</td>\n",
       "      <td>0.290198</td>\n",
       "      <td>0.262577</td>\n",
       "      <td>0.279962</td>\n",
       "      <td>0.214559</td>\n",
       "      <td>0.220602</td>\n",
       "      <td>0.275198</td>\n",
       "      <td>0.293847</td>\n",
       "      <td>0.245828</td>\n",
       "      <td>0.322629</td>\n",
       "    </tr>\n",
       "    <tr>\n",
       "      <th>3299</th>\n",
       "      <td>0.288819</td>\n",
       "      <td>0.266159</td>\n",
       "      <td>0.303005</td>\n",
       "      <td>0.331604</td>\n",
       "      <td>0.289700</td>\n",
       "      <td>0.297041</td>\n",
       "      <td>0.319030</td>\n",
       "      <td>0.276936</td>\n",
       "      <td>0.301402</td>\n",
       "      <td>0.291242</td>\n",
       "      <td>...</td>\n",
       "      <td>0.302138</td>\n",
       "      <td>0.310034</td>\n",
       "      <td>0.257920</td>\n",
       "      <td>0.310217</td>\n",
       "      <td>0.294759</td>\n",
       "      <td>0.293728</td>\n",
       "      <td>0.332510</td>\n",
       "      <td>0.300831</td>\n",
       "      <td>0.308106</td>\n",
       "      <td>0.304432</td>\n",
       "    </tr>\n",
       "    <tr>\n",
       "      <th>3317</th>\n",
       "      <td>0.294849</td>\n",
       "      <td>0.245654</td>\n",
       "      <td>0.312123</td>\n",
       "      <td>0.261188</td>\n",
       "      <td>0.275481</td>\n",
       "      <td>0.315694</td>\n",
       "      <td>0.262827</td>\n",
       "      <td>0.273509</td>\n",
       "      <td>0.295681</td>\n",
       "      <td>0.289812</td>\n",
       "      <td>...</td>\n",
       "      <td>0.307542</td>\n",
       "      <td>0.310453</td>\n",
       "      <td>0.202346</td>\n",
       "      <td>0.280521</td>\n",
       "      <td>0.242653</td>\n",
       "      <td>0.227304</td>\n",
       "      <td>0.318606</td>\n",
       "      <td>0.274512</td>\n",
       "      <td>0.301320</td>\n",
       "      <td>0.333195</td>\n",
       "    </tr>\n",
       "    <tr>\n",
       "      <th>3320</th>\n",
       "      <td>0.289362</td>\n",
       "      <td>0.262986</td>\n",
       "      <td>0.311049</td>\n",
       "      <td>0.333769</td>\n",
       "      <td>0.281996</td>\n",
       "      <td>0.306336</td>\n",
       "      <td>0.327634</td>\n",
       "      <td>0.282698</td>\n",
       "      <td>0.293111</td>\n",
       "      <td>0.288757</td>\n",
       "      <td>...</td>\n",
       "      <td>0.300805</td>\n",
       "      <td>0.306546</td>\n",
       "      <td>0.233097</td>\n",
       "      <td>0.233074</td>\n",
       "      <td>0.216203</td>\n",
       "      <td>0.232881</td>\n",
       "      <td>0.219507</td>\n",
       "      <td>0.226694</td>\n",
       "      <td>0.234600</td>\n",
       "      <td>0.330961</td>\n",
       "    </tr>\n",
       "  </tbody>\n",
       "</table>\n",
       "<p>887 rows × 144 columns</p>\n",
       "</div>"
      ],
      "text/plain": [
       "           0         1         2         3         4         5         6    \\\n",
       "0     0.277760  0.263622  0.265875  0.309096  0.279387  0.289523  0.280914   \n",
       "1     0.280141  0.258346  0.315105  0.321671  0.268860  0.299402  0.326422   \n",
       "2     0.161587  0.157372  0.196389  0.211964  0.170820  0.211063  0.220392   \n",
       "3     0.294040  0.241433  0.311173  0.264910  0.272758  0.311695  0.260209   \n",
       "8     0.279143  0.267304  0.283000  0.317978  0.280961  0.284139  0.301932   \n",
       "...        ...       ...       ...       ...       ...       ...       ...   \n",
       "3296  0.274666  0.242820  0.278944  0.283339  0.250088  0.271230  0.263545   \n",
       "3297  0.295893  0.263863  0.314529  0.330223  0.288407  0.312717  0.328499   \n",
       "3299  0.288819  0.266159  0.303005  0.331604  0.289700  0.297041  0.319030   \n",
       "3317  0.294849  0.245654  0.312123  0.261188  0.275481  0.315694  0.262827   \n",
       "3320  0.289362  0.262986  0.311049  0.333769  0.281996  0.306336  0.327634   \n",
       "\n",
       "           7         8         9    ...       134       135       136  \\\n",
       "0     0.263681  0.274686  0.235407  ...  0.280938  0.262028  0.258222   \n",
       "1     0.267233  0.289967  0.283411  ...  0.275485  0.326595  0.250587   \n",
       "2     0.138747  0.177799  0.125638  ...  0.212964  0.195686  0.195297   \n",
       "3     0.274026  0.300492  0.290986  ...  0.315280  0.314131  0.199638   \n",
       "8     0.264709  0.264126  0.255963  ...  0.276685  0.270342  0.261385   \n",
       "...        ...       ...       ...  ...       ...       ...       ...   \n",
       "3296  0.269605  0.276060  0.291239  ...  0.272756  0.297963  0.240680   \n",
       "3297  0.295515  0.279123  0.319106  ...  0.294825  0.290198  0.262577   \n",
       "3299  0.276936  0.301402  0.291242  ...  0.302138  0.310034  0.257920   \n",
       "3317  0.273509  0.295681  0.289812  ...  0.307542  0.310453  0.202346   \n",
       "3320  0.282698  0.293111  0.288757  ...  0.300805  0.306546  0.233097   \n",
       "\n",
       "           137       138       139       140       141       142       143  \n",
       "0     0.305322  0.248322  0.253884  0.318953  0.302738  0.317501  0.269901  \n",
       "1     0.307220  0.302750  0.288386  0.330523  0.294811  0.321443  0.344148  \n",
       "2     0.269210  0.237636  0.241654  0.297018  0.258780  0.297787  0.248637  \n",
       "3     0.274799  0.234305  0.221104  0.313611  0.268131  0.290978  0.333071  \n",
       "8     0.318402  0.266408  0.266212  0.339802  0.320710  0.323255  0.251400  \n",
       "...        ...       ...       ...       ...       ...       ...       ...  \n",
       "3296  0.322419  0.294876  0.287057  0.344293  0.303947  0.314885  0.308617  \n",
       "3297  0.279962  0.214559  0.220602  0.275198  0.293847  0.245828  0.322629  \n",
       "3299  0.310217  0.294759  0.293728  0.332510  0.300831  0.308106  0.304432  \n",
       "3317  0.280521  0.242653  0.227304  0.318606  0.274512  0.301320  0.333195  \n",
       "3320  0.233074  0.216203  0.232881  0.219507  0.226694  0.234600  0.330961  \n",
       "\n",
       "[887 rows x 144 columns]"
      ]
     },
     "execution_count": 60,
     "metadata": {},
     "output_type": "execute_result"
    }
   ],
   "source": [
    "distances_df.dropna(how='any')"
   ]
  },
  {
   "cell_type": "code",
   "execution_count": 61,
   "id": "e9b5763c",
   "metadata": {},
   "outputs": [],
   "source": [
    "distances_df.dropna(how='any').to_csv('distances_df')"
   ]
  },
  {
   "cell_type": "code",
   "execution_count": 62,
   "id": "4bd89a1c",
   "metadata": {},
   "outputs": [
    {
     "data": {
      "text/plain": [
       "\"\\ndistances = [0.2, 0.2, 0.5, 0.8, 0.7, 0.7, 0.6, 0.5, 0.9, 0.6, 0.4, 0.3, 0.05]\\nclasses =   ['A', 'B', 'B', 'C', 'A', 'A', 'C', 'C', 'C', 'B', 'B', 'B', 'C']\\nprint('max: ', classify(distances, classes))\\n\""
      ]
     },
     "execution_count": 62,
     "metadata": {},
     "output_type": "execute_result"
    }
   ],
   "source": [
    "def classify(distances, classes):\n",
    "    '''\n",
    "    same lengths\n",
    "    distances - np.array\n",
    "    classes - np.array\n",
    "    returns: class\n",
    "    '''\n",
    "    weights = {cls: [] for cls in classes}\n",
    "    for i in range(len(distances)):\n",
    "        weights[classes[i]].append(distances[i])\n",
    "\n",
    "    m = max(sum(list(map(lambda x: pow(x, -1), scores)))/len(scores) for scores in weights.values())\n",
    "    for cls in weights.keys():\n",
    "        lm = sum(list(map(lambda x: pow(x, -1), weights[cls])))/len(weights[cls])\n",
    "        if lm == m:\n",
    "            return cls\n",
    "\n",
    "\n",
    "'''\n",
    "distances = [0.2, 0.2, 0.5, 0.8, 0.7, 0.7, 0.6, 0.5, 0.9, 0.6, 0.4, 0.3, 0.05]\n",
    "classes =   ['A', 'B', 'B', 'C', 'A', 'A', 'C', 'C', 'C', 'B', 'B', 'B', 'C']\n",
    "print('max: ', classify(distances, classes))\n",
    "'''"
   ]
  },
  {
   "cell_type": "code",
   "execution_count": 63,
   "id": "85ee9f50",
   "metadata": {},
   "outputs": [],
   "source": [
    "predictions = []\n",
    "\n",
    "\n",
    "for i in range(len(distances)):\n",
    "    if distances[i] is not np.NaN:\n",
    "        predictions.append(classify(distances[i], train_df['y']))\n",
    "    else:\n",
    "        predictions.append(np.NaN)"
   ]
  },
  {
   "cell_type": "code",
   "execution_count": 64,
   "id": "f828a88b",
   "metadata": {},
   "outputs": [],
   "source": [
    "results_df = pd.DataFrame()\n",
    "results_df['preds'] = predictions\n",
    "results_df['y'] = val_df['y']"
   ]
  },
  {
   "cell_type": "code",
   "execution_count": 65,
   "id": "1e1d21f4",
   "metadata": {
    "scrolled": true
   },
   "outputs": [],
   "source": [
    "off_res = results_df.dropna(how='any')"
   ]
  },
  {
   "cell_type": "code",
   "execution_count": 66,
   "id": "77d12172",
   "metadata": {},
   "outputs": [],
   "source": [
    "off_res = off_res.drop(off_res.loc[off_res['y']==7].index)\n",
    "off_res = off_res.drop(off_res.loc[off_res['y']>13].index)"
   ]
  },
  {
   "cell_type": "code",
   "execution_count": 72,
   "id": "91ba4438",
   "metadata": {},
   "outputs": [
    {
     "name": "stderr",
     "output_type": "stream",
     "text": [
      "C:\\Users\\kaczm\\AppData\\Local\\Temp/ipykernel_17880/2162921400.py:1: RuntimeWarning: invalid value encountered in longlong_scalars\n",
      "  (off_res['preds'] == off_res['y']).sum()/(len(off_res))\n"
     ]
    },
    {
     "data": {
      "text/plain": [
       "nan"
      ]
     },
     "execution_count": 72,
     "metadata": {},
     "output_type": "execute_result"
    }
   ],
   "source": [
    "(off_res['preds'] == off_res['y']).sum()/(len(off_res))"
   ]
  },
  {
   "cell_type": "code",
   "execution_count": 68,
   "id": "52ce0493",
   "metadata": {},
   "outputs": [
    {
     "data": {
      "text/html": [
       "<div>\n",
       "<style scoped>\n",
       "    .dataframe tbody tr th:only-of-type {\n",
       "        vertical-align: middle;\n",
       "    }\n",
       "\n",
       "    .dataframe tbody tr th {\n",
       "        vertical-align: top;\n",
       "    }\n",
       "\n",
       "    .dataframe thead th {\n",
       "        text-align: right;\n",
       "    }\n",
       "</style>\n",
       "<table border=\"1\" class=\"dataframe\">\n",
       "  <thead>\n",
       "    <tr style=\"text-align: right;\">\n",
       "      <th></th>\n",
       "      <th>preds</th>\n",
       "      <th>y</th>\n",
       "    </tr>\n",
       "  </thead>\n",
       "  <tbody>\n",
       "  </tbody>\n",
       "</table>\n",
       "</div>"
      ],
      "text/plain": [
       "Empty DataFrame\n",
       "Columns: [preds, y]\n",
       "Index: []"
      ]
     },
     "execution_count": 68,
     "metadata": {},
     "output_type": "execute_result"
    }
   ],
   "source": [
    "off_res"
   ]
  },
  {
   "cell_type": "code",
   "execution_count": 69,
   "id": "0a3560c9",
   "metadata": {},
   "outputs": [
    {
     "data": {
      "text/plain": [
       "<matplotlib.image.AxesImage at 0x232563b5910>"
      ]
     },
     "execution_count": 69,
     "metadata": {},
     "output_type": "execute_result"
    },
    {
     "data": {
      "image/png": "[encoded data removed]",
      "text/plain": [
       "<Figure size 432x288 with 1 Axes>"
      ]
     },
     "metadata": {
      "needs_background": "light"
     },
     "output_type": "display_data"
    }
   ],
   "source": [
    "plt.imshow(val_gen[10][0].astype('int64'))"
   ]
  },
  {
   "cell_type": "code",
   "execution_count": 70,
   "id": "8d99e29f",
   "metadata": {},
   "outputs": [
    {
     "data": {
      "text/plain": [
       "array([ 1,  2,  3,  4,  5,  6,  8,  9, 10, 11, 12, 13], dtype=int64)"
      ]
     },
     "execution_count": 70,
     "metadata": {},
     "output_type": "execute_result"
    }
   ],
   "source": [
    "labs = train_df['y'].unique()\n",
    "labs.sort()\n",
    "labs"
   ]
  },
  {
   "cell_type": "code",
   "execution_count": 71,
   "id": "90098815",
   "metadata": {
    "scrolled": true
   },
   "outputs": [
    {
     "data": {
      "text/html": [
       "<div>\n",
       "<style scoped>\n",
       "    .dataframe tbody tr th:only-of-type {\n",
       "        vertical-align: middle;\n",
       "    }\n",
       "\n",
       "    .dataframe tbody tr th {\n",
       "        vertical-align: top;\n",
       "    }\n",
       "\n",
       "    .dataframe thead th {\n",
       "        text-align: right;\n",
       "    }\n",
       "</style>\n",
       "<table border=\"1\" class=\"dataframe\">\n",
       "  <thead>\n",
       "    <tr style=\"text-align: right;\">\n",
       "      <th></th>\n",
       "      <th>preds</th>\n",
       "      <th>y</th>\n",
       "    </tr>\n",
       "  </thead>\n",
       "  <tbody>\n",
       "  </tbody>\n",
       "</table>\n",
       "</div>"
      ],
      "text/plain": [
       "Empty DataFrame\n",
       "Columns: [preds, y]\n",
       "Index: []"
      ]
     },
     "execution_count": 71,
     "metadata": {},
     "output_type": "execute_result"
    }
   ],
   "source": [
    "off_res.loc[off_res['y'] == 6]"
   ]
  },
  {
   "cell_type": "code",
   "execution_count": 369,
   "id": "8e57a462",
   "metadata": {},
   "outputs": [
    {
     "data": {
      "text/html": [
       "<div>\n",
       "<style scoped>\n",
       "    .dataframe tbody tr th:only-of-type {\n",
       "        vertical-align: middle;\n",
       "    }\n",
       "\n",
       "    .dataframe tbody tr th {\n",
       "        vertical-align: top;\n",
       "    }\n",
       "\n",
       "    .dataframe thead th {\n",
       "        text-align: right;\n",
       "    }\n",
       "</style>\n",
       "<table border=\"1\" class=\"dataframe\">\n",
       "  <thead>\n",
       "    <tr style=\"text-align: right;\">\n",
       "      <th></th>\n",
       "      <th>preds</th>\n",
       "      <th>y</th>\n",
       "    </tr>\n",
       "  </thead>\n",
       "  <tbody>\n",
       "    <tr>\n",
       "      <th>23</th>\n",
       "      <td>4.0</td>\n",
       "      <td>8</td>\n",
       "    </tr>\n",
       "    <tr>\n",
       "      <th>28</th>\n",
       "      <td>4.0</td>\n",
       "      <td>8</td>\n",
       "    </tr>\n",
       "    <tr>\n",
       "      <th>36</th>\n",
       "      <td>4.0</td>\n",
       "      <td>8</td>\n",
       "    </tr>\n",
       "    <tr>\n",
       "      <th>38</th>\n",
       "      <td>4.0</td>\n",
       "      <td>9</td>\n",
       "    </tr>\n",
       "    <tr>\n",
       "      <th>39</th>\n",
       "      <td>4.0</td>\n",
       "      <td>8</td>\n",
       "    </tr>\n",
       "    <tr>\n",
       "      <th>43</th>\n",
       "      <td>4.0</td>\n",
       "      <td>8</td>\n",
       "    </tr>\n",
       "    <tr>\n",
       "      <th>48</th>\n",
       "      <td>4.0</td>\n",
       "      <td>9</td>\n",
       "    </tr>\n",
       "    <tr>\n",
       "      <th>50</th>\n",
       "      <td>4.0</td>\n",
       "      <td>8</td>\n",
       "    </tr>\n",
       "    <tr>\n",
       "      <th>51</th>\n",
       "      <td>8.0</td>\n",
       "      <td>9</td>\n",
       "    </tr>\n",
       "    <tr>\n",
       "      <th>65</th>\n",
       "      <td>4.0</td>\n",
       "      <td>8</td>\n",
       "    </tr>\n",
       "  </tbody>\n",
       "</table>\n",
       "</div>"
      ],
      "text/plain": [
       "    preds  y\n",
       "23    4.0  8\n",
       "28    4.0  8\n",
       "36    4.0  8\n",
       "38    4.0  9\n",
       "39    4.0  8\n",
       "43    4.0  8\n",
       "48    4.0  9\n",
       "50    4.0  8\n",
       "51    8.0  9\n",
       "65    4.0  8"
      ]
     },
     "execution_count": 369,
     "metadata": {},
     "output_type": "execute_result"
    }
   ],
   "source": [
    "off_res.loc[off_res['preds']!=off_res['y']].head(10)"
   ]
  },
  {
   "cell_type": "code",
   "execution_count": 388,
   "id": "f6d8a315",
   "metadata": {},
   "outputs": [],
   "source": [
    "deps = np.zeros((14,14))\n",
    "\n",
    "for i in range(len(off_res)):\n",
    "    deps[int(off_res.iloc[i]['preds']), int(off_res.iloc[i]['y'])] += 1"
   ]
  },
  {
   "cell_type": "code",
   "execution_count": 389,
   "id": "283a87ff",
   "metadata": {
    "scrolled": true
   },
   "outputs": [
    {
     "data": {
      "text/plain": [
       "<matplotlib.image.AxesImage at 0x285ccd250>"
      ]
     },
     "execution_count": 389,
     "metadata": {},
     "output_type": "execute_result"
    },
    {
     "data": {
      "image/png": "[encoded data removed]",
      "text/plain": [
       "<Figure size 432x288 with 1 Axes>"
      ]
     },
     "metadata": {
      "needs_background": "light"
     },
     "output_type": "display_data"
    }
   ],
   "source": [
    "plt.imshow(deps, cmap='hot')"
   ]
  },
  {
   "cell_type": "code",
   "execution_count": 398,
   "id": "f86af263",
   "metadata": {},
   "outputs": [
    {
     "name": "stderr",
     "output_type": "stream",
     "text": [
      "/Library/Frameworks/Python.framework/Versions/3.9/lib/python3.9/site-packages/tensorflow_addons/utils/ensure_tf_install.py:53: UserWarning: Tensorflow Addons supports using Python ops for all Tensorflow versions above or equal to 2.6.0 and strictly below 2.9.0 (nightly versions are not supported). \n",
      " The versions of TensorFlow you are currently using is 2.9.1 and is not supported. \n",
      "Some things might work, some things might not.\n",
      "If you were to encounter a bug, do not file an issue.\n",
      "If you want to make sure you're using a tested and supported configuration, either change the TensorFlow version or the TensorFlow Addons's version. \n",
      "You can find the compatibility matrix in TensorFlow Addon's readme:\n",
      "https://github.com/tensorflow/addons\n",
      "  warnings.warn(\n"
     ]
    }
   ],
   "source": [
    "import tensorflow_addons as tfa\n",
    "\n",
    "model_b7.compile(optimizer='adam',\n",
    "                loss=tfa.losses.TripletSemiHardLoss(),\n",
    "                metrics=['accuracy'])"
   ]
  },
  {
   "cell_type": "code",
   "execution_count": 73,
   "id": "c404204e",
   "metadata": {},
   "outputs": [
    {
     "ename": "FileNotFoundError",
     "evalue": "[Errno 2] No such file or directory: '/data/images_part1_test_public_copy.json'",
     "output_type": "error",
     "traceback": [
      "\u001b[1;31m---------------------------------------------------------------------------\u001b[0m",
      "\u001b[1;31mFileNotFoundError\u001b[0m                         Traceback (most recent call last)",
      "\u001b[1;32m~\\AppData\\Local\\Temp/ipykernel_17880/1339012321.py\u001b[0m in \u001b[0;36m<module>\u001b[1;34m\u001b[0m\n\u001b[0;32m      3\u001b[0m \u001b[0mjson_path\u001b[0m \u001b[1;33m=\u001b[0m \u001b[1;34m'/data/images_part1_test_public_copy.json'\u001b[0m\u001b[1;33m\u001b[0m\u001b[1;33m\u001b[0m\u001b[0m\n\u001b[0;32m      4\u001b[0m \u001b[1;33m\u001b[0m\u001b[0m\n\u001b[1;32m----> 5\u001b[1;33m \u001b[1;32mwith\u001b[0m \u001b[0mopen\u001b[0m\u001b[1;33m(\u001b[0m\u001b[0mjson_path\u001b[0m\u001b[1;33m,\u001b[0m \u001b[1;34m'r+'\u001b[0m\u001b[1;33m)\u001b[0m \u001b[1;32mas\u001b[0m \u001b[0mf\u001b[0m\u001b[1;33m:\u001b[0m\u001b[1;33m\u001b[0m\u001b[1;33m\u001b[0m\u001b[0m\n\u001b[0m\u001b[0;32m      6\u001b[0m     \u001b[0mdata\u001b[0m \u001b[1;33m=\u001b[0m \u001b[0mjson\u001b[0m\u001b[1;33m.\u001b[0m\u001b[0mload\u001b[0m\u001b[1;33m(\u001b[0m\u001b[0mf\u001b[0m\u001b[1;33m)\u001b[0m\u001b[1;33m\u001b[0m\u001b[1;33m\u001b[0m\u001b[0m\n\u001b[0;32m      7\u001b[0m     \u001b[1;32mfor\u001b[0m \u001b[0mi\u001b[0m \u001b[1;32min\u001b[0m \u001b[0mrange\u001b[0m\u001b[1;33m(\u001b[0m\u001b[0mlen\u001b[0m\u001b[1;33m(\u001b[0m\u001b[0mresults_df\u001b[0m\u001b[1;33m)\u001b[0m\u001b[1;33m)\u001b[0m\u001b[1;33m:\u001b[0m\u001b[1;33m\u001b[0m\u001b[1;33m\u001b[0m\u001b[0m\n",
      "\u001b[1;31mFileNotFoundError\u001b[0m: [Errno 2] No such file or directory: '/data/images_part1_test_public_copy.json'"
     ]
    }
   ],
   "source": [
    "import json\n",
    "\n",
    "json_path = 'data/images_part1_test_public_copy.json'\n",
    "\n",
    "with open(json_path, 'r+') as f:\n",
    "    data = json.load(f)\n",
    "    for i in range(len(results_df)):\n",
    "        if results_df.iloc[i]['preds'] == results_df.iloc[i]['preds']:\n",
    "            data['annotations'][i]['category_id'] = results_df.iloc[i]['preds']\n",
    "        else:\n",
    "            data['annotations'][i]['category_id'] = None\n",
    "    f.seek(0)        # <--- should reset file position to the beginning.\n",
    "    json.dump(data, f, indent=4)\n",
    "    f.truncate()     # remove remaining part\n",
    "\n",
    "\n"
   ]
  },
  {
   "cell_type": "code",
   "execution_count": null,
   "id": "3f3ca271",
   "metadata": {},
   "outputs": [],
   "source": []
  }
 ],
 "metadata": {
  "interpreter": {
   "hash": "ad2bdc8ecc057115af97d19610ffacc2b4e99fae6737bb82f5d7fb13d2f2c186"
  },
  "kernelspec": {
   "display_name": "Python 3.9.7 ('base')",
   "language": "python",
   "name": "python3"
  },
  "language_info": {
   "codemirror_mode": {
    "name": "ipython",
    "version": 3
   },
   "file_extension": ".py",
   "mimetype": "text/x-python",
   "name": "python",
   "nbconvert_exporter": "python",
   "pygments_lexer": "ipython3",
   "version": "3.9.7"
  }
 },
 "nbformat": 4,
 "nbformat_minor": 5
}
